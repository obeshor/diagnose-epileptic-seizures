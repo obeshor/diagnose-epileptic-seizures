{
  "metadata": {
    "kernelspec": {
      "display_name": "Python 3",
      "language": "python",
      "name": "python3"
    },
    "language_info": {
      "name": "python",
      "version": "3.6.6",
      "mimetype": "text/x-python",
      "codemirror_mode": {
        "name": "ipython",
        "version": 3
      },
      "pygments_lexer": "ipython3",
      "nbconvert_exporter": "python",
      "file_extension": ".py"
    },
    "colab": {
      "provenance": [],
      "machine_shape": "hm",
      "gpuType": "A100",
      "include_colab_link": true
    },
    "accelerator": "GPU",
    "gpuClass": "standard"
  },
  "nbformat_minor": 0,
  "nbformat": 4,
  "cells": [
    {
      "cell_type": "markdown",
      "metadata": {
        "id": "view-in-github",
        "colab_type": "text"
      },
      "source": [
        "<a href=\"https://colab.research.google.com/github/obeshor/diagnose-epileptic-seizures/blob/main/Seizure_prediction.ipynb\" target=\"_parent\"><img src=\"https://colab.research.google.com/assets/colab-badge.svg\" alt=\"Open In Colab\"/></a>"
      ]
    },
    {
      "cell_type": "markdown",
      "source": [
        "# &#128204; Intro Of This Notebook\n",
        "The aim of this study is to diagnose epileptic seizures by using different machine learning algorithms. For this purpose, the frequency components of the EEG are extracted by using the discrete wavelet transform (DWT) and parametric  methods based on autoregressive (AR) model. We use ANN, CNN and LSTM"
      ],
      "metadata": {
        "_uuid": "52bfbfde1bba170d2347810de8f6889029c040f7",
        "id": "mbJGT6i9MV8M"
      }
    },
    {
      "cell_type": "markdown",
      "source": [
        "# &#128225; Introduction Of Epileptic\n",
        "Epilepsy is a serious brain illness that is an endemic neurological disorder all over  the world. It is a clinical result that occurs with abnormal neurological electrical  discharging of brain. Epileptic seizures represent the most common positive signs and  symptoms of brain disturbance, and epilepsy is one of the most common primary  brain disorders . Vascular causes, traumatic causes, infections and brain abscesses,  brain tumors, nutritional deficiencies, pyridoxine deficiency, calcium metabolism  disorders are lead causes for epilepsy. For in diagnosing epilepsy, research is needed  for better understanding of mechanisms causing epileptic disorders. The evaluation  and treatment of neurophysiologic disorders are diagnosed with the  electroencephalogram [EEG]. EEG is crucial for accurate classification of different  forms of epilepsy ."
      ],
      "metadata": {
        "_uuid": "8f2839f25d086af736a60e9eeb907d3b93b6e0e5",
        "_cell_guid": "b1076dfc-b9ad-4769-8c92-a6c4dae69d19",
        "trusted": true,
        "id": "HG37vOJNMV8P"
      }
    },
    {
      "cell_type": "markdown",
      "source": [
        "# Theoretical Background\n",
        "The aim of this study is to contribute to the diagnosis of epilepsy by taking advantage of the engineering. So, for diagnosing of epileptic seizures from EEG signals are transformed discrete wavelet and auto regressive models."
      ],
      "metadata": {
        "_cell_guid": "79c7e3d0-c299-4dcb-8224-4455121ee9b0",
        "_uuid": "d629ff2d2480ee46fbb7e2d37f6b5fab8052498a",
        "id": "FOxq_8_8MV8P"
      }
    },
    {
      "cell_type": "markdown",
      "source": [
        "# EEG Data Recording\n",
        "EEG signals are separated into α, β, δ and θ spectral components and provide a  wide range of frequency components. EEG spectrum contains some characteristic  waveforms that fall primarily within four frequency bands as follows: δ(0.5-4 Hz),  θ(4-8 Hz), α(8-13 Hz), and β (13- 30 Hz) .\n",
        "EEG data set has acquired different age groups in this study. They are known  epileptic with uncontrolled seizures and are admitted to the neurology department of the Medical Faculty Hospital of Dicle University1. For this system LabView pro-  gramming language has been used  and the EEG data used in 400 people who re-  ceived 200 of them are epilepsy and with 200 of them are normal. Data set represents  of signals belong to several healthy and epileptic patients. The EEG signals that are  contained by PCI-MIO 16E DAQ card system that provides real time processing and  is a data bus of computer, signal processor and personal computer. Fig. 2 shows that  how to acquire EEG data from a patient [1]. EEG signals are to ensure the accuracy of  diagnosing disease that usually is taken 8-10 hours in the form of records. EEG sig-  nals are used in section and 23.6 seconds, 173 Hz sampling frequency is illustrated  with. International 10–20 electrode placement system according to the data collected,  12-bit analog-digital conversion after the samples are recorded subsequently. Data can  be passed through the filter 0.53–40 Hz band–pass, the EEG in the presence of clini-  cal interest for focusing range is provided. The EEG data used in our study were  downloaded from 24-h EEG recorded from both epileptic patients and normal sub-  jects. The following bipolar EEG channels were selected for analysis: F7-C3, F8-C4,  T5-O1 and T6-O2. In order to assess the performance of the classifier, we selected  500 EEG segments containing spike and wave complex, artifacts and background  normal EEG .\n",
        "![Imgur](https://i.imgur.com/6rQgYS9.png)"
      ],
      "metadata": {
        "_uuid": "f87ef7827d46d14e55f921b25c7d762175e941dc",
        "id": "CQ2hGXAjMV8Q"
      }
    },
    {
      "cell_type": "markdown",
      "source": [
        "# Discrete Wavelet Transform\n",
        "Wavelet transform is more advantageous spectral analyze method than other  spectral analyze methods on non-stationary signals. Because the wavelet transform  method changes large low-frequency, high frequency that is narrow for the window  size. So, the entire frequency range can be achieved in the optimum time-frequency  resolution [22] Continuous and discrete wavelet transform is analyzed in the scale and  variation of parameters due to the continuous wavelet coefficients for each scale is  difficult and time consuming. For this reason, discrete wavelet transform is used more\n",
        "ften than these non-stationary signals. Wavelet scale is divided into a number of  points for x[n] process as seen in Fig. 2 that is called multi resolution decomposition.  It is important that is selected appropriate wavelet decomposition level, the number of  detection and wavelet transform analysis of signals. Because of classification accura-  cy is dependent on type of wavelet, dominant frequency components of signals are  determined according to the number of decomposition levels.\n",
        "Wavelet coefficients contain important information about EEG signal that provide  extraction of feature vector. Statistical-time frequency of EEG signals sequences are:\n",
        "\n",
        "The average of the absolute value of coefficients in each sub-band.\n",
        "The maximum absolute value of coefficients in each sub-band.\n",
        "The mean force coefficients of each sub-band.\n",
        "Standard deviation of coefficients in each sub-band.\n",
        "The average absolute value of the ratio of adjacent bands.\n",
        "Distribution of breakdown coefficients in each sub-band.\n",
        "\n",
        "1-3 sequence is signal characteristic; 4-6 sequence is that amount of frequency  change. This feature vector, of EEG signals that are used as inputs for multi-layer  neural network classification.\n",
        "![Imgur](https://i.imgur.com/Jzj3UAU.png)"
      ],
      "metadata": {
        "_uuid": "30e388d1b8ce7f8c9654828ef320fb39d953bab0",
        "trusted": true,
        "id": "uYG_iVpaMV8Q"
      }
    },
    {
      "cell_type": "markdown",
      "source": [
        "# Importing the libraries"
      ],
      "metadata": {
        "_uuid": "b9ad6f280e93376b5811f0cd1f25556150660b21",
        "id": "cSpnfWlgMV8R"
      }
    },
    {
      "cell_type": "code",
      "execution_count": null,
      "metadata": {
        "id": "0ba46X5JQdb9",
        "colab": {
          "base_uri": "https://localhost:8080/"
        },
        "outputId": "8c6fdebb-5195-444a-88e7-f196f06ed0b4"
      },
      "outputs": [
        {
          "output_type": "stream",
          "name": "stdout",
          "text": [
            "Mounted at /content/drive\n"
          ]
        }
      ],
      "source": [
        "from google.colab import drive\n",
        "drive.mount('/content/drive')"
      ]
    },
    {
      "cell_type": "code",
      "source": [
        "# imports\n",
        "\n",
        "import sys\n",
        "import os\n",
        "import numpy as np\n",
        "from tqdm import tqdm\n",
        "import matplotlib.pyplot as plt\n",
        "import seaborn as sns\n",
        "import pandas as pd\n",
        "from sklearn.metrics import confusion_matrix\n",
        "from keras.layers import Dense, Convolution1D, MaxPool1D, Flatten, Dropout\n",
        "from keras.layers import Input, LSTM\n",
        "from keras.models import Model\n",
        "from tensorflow import keras\n",
        "from tensorflow.keras import layers\n",
        "# from keras.layers.normalization import BatchNormalization\n",
        "from keras.layers import BatchNormalization\n",
        "import keras\n",
        "from matplotlib.pyplot import figure\n",
        "from keras.callbacks import EarlyStopping, ModelCheckpoint"
      ],
      "metadata": {
        "id": "aYDLaAq3uDZF",
        "execution": {
          "iopub.status.busy": "2023-05-11T06:54:20.729775Z",
          "iopub.execute_input": "2023-05-11T06:54:20.730688Z",
          "iopub.status.idle": "2023-05-11T06:54:30.440034Z",
          "shell.execute_reply.started": "2023-05-11T06:54:20.730568Z",
          "shell.execute_reply": "2023-05-11T06:54:30.439044Z"
        },
        "trusted": true
      },
      "execution_count": null,
      "outputs": []
    },
    {
      "cell_type": "code",
      "source": [
        "# Set working directory\n",
        "import os\n",
        "os.chdir('/content/drive/MyDrive/Colab Notebooks/Others/data')\n",
        "\n",
        "\n",
        "# Data table display for Pandas dataframes\n",
        "from google.colab import data_table"
      ],
      "metadata": {
        "id": "RnhBLs9b4aw9"
      },
      "execution_count": null,
      "outputs": []
    },
    {
      "cell_type": "markdown",
      "source": [
        "# Load the Dataset"
      ],
      "metadata": {
        "_uuid": "710c7bc8e8f0ebf31b579ae609e2c8b364e4b731",
        "id": "hLSMTb_SMV8R"
      }
    },
    {
      "cell_type": "code",
      "source": [
        "raw_data = pd.read_csv('Epileptic Seizure Recognition.csv')"
      ],
      "metadata": {
        "_uuid": "ffb826c5e8da301b74c3a0161e7dcc079fec03ce",
        "_kg_hide-input": true,
        "execution": {
          "iopub.status.busy": "2023-05-03T16:40:54.162972Z",
          "iopub.execute_input": "2023-05-03T16:40:54.163323Z",
          "iopub.status.idle": "2023-05-03T16:40:54.642265Z",
          "shell.execute_reply.started": "2023-05-03T16:40:54.163270Z",
          "shell.execute_reply": "2023-05-03T16:40:54.641505Z"
        },
        "trusted": true,
        "id": "_301QrZ_MV8R"
      },
      "execution_count": null,
      "outputs": []
    },
    {
      "cell_type": "markdown",
      "source": [
        "# Read and Show Dataset\n",
        "* The original dataset from the reference consists of 5 different folders, each with 100 files, with each file representing a single subject/person. Each file is a recording of brain activity for 23.6 seconds.\n",
        "\n",
        "* The corresponding time-series is sampled into 4097 data points. Each data point is the value of the EEG recording at a different point in time. So we have total 500 individuals with each has 4097 data points for 23.5 seconds.\n",
        "\n",
        "* We divided and shuffled every 4097 data points into 23 chunks, each chunk contains 178 data points for 1 second, and each data point is the value of the EEG recording at a different point in time.\n",
        "\n",
        "* So now we have 23 x 500 = 11500 pieces of information(row), each information contains 178 data points for 1 second(column), the last column represents the label y {1,2,3,4,5}.\n",
        "\n",
        "* The response variable is y in column 179, the Explanatory variables X1, X2, ..., X178"
      ],
      "metadata": {
        "_uuid": "f747e03448e282cdb4f5a611a8aa2191acc71c80",
        "id": "OeXk0VMLMV8S"
      }
    },
    {
      "cell_type": "code",
      "source": [
        "raw_data.head()"
      ],
      "metadata": {
        "_uuid": "98727073fd4a8acefbbe53251f25fe30986f1e2f",
        "_kg_hide-input": true,
        "execution": {
          "iopub.status.busy": "2023-05-03T16:41:26.807851Z",
          "iopub.execute_input": "2023-05-03T16:41:26.808162Z",
          "iopub.status.idle": "2023-05-03T16:41:26.926913Z",
          "shell.execute_reply.started": "2023-05-03T16:41:26.808110Z",
          "shell.execute_reply": "2023-05-03T16:41:26.926146Z"
        },
        "trusted": true,
        "id": "P_d4ruu9MV8S",
        "outputId": "c0c1cfa1-1e9f-4581-809a-906559b69759",
        "colab": {
          "base_uri": "https://localhost:8080/",
          "height": 236
        }
      },
      "execution_count": null,
      "outputs": [
        {
          "output_type": "execute_result",
          "data": {
            "text/plain": [
              "      Unnamed   X1   X2   X3   X4   X5   X6   X7   X8   X9  ...  X170  X171  \\\n",
              "0  X21.V1.791  135  190  229  223  192  125   55   -9  -33  ...   -17   -15   \n",
              "1  X15.V1.924  386  382  356  331  320  315  307  272  244  ...   164   150   \n",
              "2     X8.V1.1  -32  -39  -47  -37  -32  -36  -57  -73  -85  ...    57    64   \n",
              "3   X16.V1.60 -105 -101  -96  -92  -89  -95 -102 -100  -87  ...   -82   -81   \n",
              "4   X20.V1.54   -9  -65  -98 -102  -78  -48  -16    0  -21  ...     4     2   \n",
              "\n",
              "   X172  X173  X174  X175  X176  X177  X178  y  \n",
              "0   -31   -77  -103  -127  -116   -83   -51  4  \n",
              "1   146   152   157   156   154   143   129  1  \n",
              "2    48    19   -12   -30   -35   -35   -36  5  \n",
              "3   -80   -77   -85   -77   -72   -69   -65  5  \n",
              "4   -12   -32   -41   -65   -83   -89   -73  5  \n",
              "\n",
              "[5 rows x 180 columns]"
            ],
            "text/html": [
              "\n",
              "  <div id=\"df-c267a22b-a77d-43b8-87bb-63b16e5190c1\">\n",
              "    <div class=\"colab-df-container\">\n",
              "      <div>\n",
              "<style scoped>\n",
              "    .dataframe tbody tr th:only-of-type {\n",
              "        vertical-align: middle;\n",
              "    }\n",
              "\n",
              "    .dataframe tbody tr th {\n",
              "        vertical-align: top;\n",
              "    }\n",
              "\n",
              "    .dataframe thead th {\n",
              "        text-align: right;\n",
              "    }\n",
              "</style>\n",
              "<table border=\"1\" class=\"dataframe\">\n",
              "  <thead>\n",
              "    <tr style=\"text-align: right;\">\n",
              "      <th></th>\n",
              "      <th>Unnamed</th>\n",
              "      <th>X1</th>\n",
              "      <th>X2</th>\n",
              "      <th>X3</th>\n",
              "      <th>X4</th>\n",
              "      <th>X5</th>\n",
              "      <th>X6</th>\n",
              "      <th>X7</th>\n",
              "      <th>X8</th>\n",
              "      <th>X9</th>\n",
              "      <th>...</th>\n",
              "      <th>X170</th>\n",
              "      <th>X171</th>\n",
              "      <th>X172</th>\n",
              "      <th>X173</th>\n",
              "      <th>X174</th>\n",
              "      <th>X175</th>\n",
              "      <th>X176</th>\n",
              "      <th>X177</th>\n",
              "      <th>X178</th>\n",
              "      <th>y</th>\n",
              "    </tr>\n",
              "  </thead>\n",
              "  <tbody>\n",
              "    <tr>\n",
              "      <th>0</th>\n",
              "      <td>X21.V1.791</td>\n",
              "      <td>135</td>\n",
              "      <td>190</td>\n",
              "      <td>229</td>\n",
              "      <td>223</td>\n",
              "      <td>192</td>\n",
              "      <td>125</td>\n",
              "      <td>55</td>\n",
              "      <td>-9</td>\n",
              "      <td>-33</td>\n",
              "      <td>...</td>\n",
              "      <td>-17</td>\n",
              "      <td>-15</td>\n",
              "      <td>-31</td>\n",
              "      <td>-77</td>\n",
              "      <td>-103</td>\n",
              "      <td>-127</td>\n",
              "      <td>-116</td>\n",
              "      <td>-83</td>\n",
              "      <td>-51</td>\n",
              "      <td>4</td>\n",
              "    </tr>\n",
              "    <tr>\n",
              "      <th>1</th>\n",
              "      <td>X15.V1.924</td>\n",
              "      <td>386</td>\n",
              "      <td>382</td>\n",
              "      <td>356</td>\n",
              "      <td>331</td>\n",
              "      <td>320</td>\n",
              "      <td>315</td>\n",
              "      <td>307</td>\n",
              "      <td>272</td>\n",
              "      <td>244</td>\n",
              "      <td>...</td>\n",
              "      <td>164</td>\n",
              "      <td>150</td>\n",
              "      <td>146</td>\n",
              "      <td>152</td>\n",
              "      <td>157</td>\n",
              "      <td>156</td>\n",
              "      <td>154</td>\n",
              "      <td>143</td>\n",
              "      <td>129</td>\n",
              "      <td>1</td>\n",
              "    </tr>\n",
              "    <tr>\n",
              "      <th>2</th>\n",
              "      <td>X8.V1.1</td>\n",
              "      <td>-32</td>\n",
              "      <td>-39</td>\n",
              "      <td>-47</td>\n",
              "      <td>-37</td>\n",
              "      <td>-32</td>\n",
              "      <td>-36</td>\n",
              "      <td>-57</td>\n",
              "      <td>-73</td>\n",
              "      <td>-85</td>\n",
              "      <td>...</td>\n",
              "      <td>57</td>\n",
              "      <td>64</td>\n",
              "      <td>48</td>\n",
              "      <td>19</td>\n",
              "      <td>-12</td>\n",
              "      <td>-30</td>\n",
              "      <td>-35</td>\n",
              "      <td>-35</td>\n",
              "      <td>-36</td>\n",
              "      <td>5</td>\n",
              "    </tr>\n",
              "    <tr>\n",
              "      <th>3</th>\n",
              "      <td>X16.V1.60</td>\n",
              "      <td>-105</td>\n",
              "      <td>-101</td>\n",
              "      <td>-96</td>\n",
              "      <td>-92</td>\n",
              "      <td>-89</td>\n",
              "      <td>-95</td>\n",
              "      <td>-102</td>\n",
              "      <td>-100</td>\n",
              "      <td>-87</td>\n",
              "      <td>...</td>\n",
              "      <td>-82</td>\n",
              "      <td>-81</td>\n",
              "      <td>-80</td>\n",
              "      <td>-77</td>\n",
              "      <td>-85</td>\n",
              "      <td>-77</td>\n",
              "      <td>-72</td>\n",
              "      <td>-69</td>\n",
              "      <td>-65</td>\n",
              "      <td>5</td>\n",
              "    </tr>\n",
              "    <tr>\n",
              "      <th>4</th>\n",
              "      <td>X20.V1.54</td>\n",
              "      <td>-9</td>\n",
              "      <td>-65</td>\n",
              "      <td>-98</td>\n",
              "      <td>-102</td>\n",
              "      <td>-78</td>\n",
              "      <td>-48</td>\n",
              "      <td>-16</td>\n",
              "      <td>0</td>\n",
              "      <td>-21</td>\n",
              "      <td>...</td>\n",
              "      <td>4</td>\n",
              "      <td>2</td>\n",
              "      <td>-12</td>\n",
              "      <td>-32</td>\n",
              "      <td>-41</td>\n",
              "      <td>-65</td>\n",
              "      <td>-83</td>\n",
              "      <td>-89</td>\n",
              "      <td>-73</td>\n",
              "      <td>5</td>\n",
              "    </tr>\n",
              "  </tbody>\n",
              "</table>\n",
              "<p>5 rows × 180 columns</p>\n",
              "</div>\n",
              "      <button class=\"colab-df-convert\" onclick=\"convertToInteractive('df-c267a22b-a77d-43b8-87bb-63b16e5190c1')\"\n",
              "              title=\"Convert this dataframe to an interactive table.\"\n",
              "              style=\"display:none;\">\n",
              "        \n",
              "  <svg xmlns=\"http://www.w3.org/2000/svg\" height=\"24px\"viewBox=\"0 0 24 24\"\n",
              "       width=\"24px\">\n",
              "    <path d=\"M0 0h24v24H0V0z\" fill=\"none\"/>\n",
              "    <path d=\"M18.56 5.44l.94 2.06.94-2.06 2.06-.94-2.06-.94-.94-2.06-.94 2.06-2.06.94zm-11 1L8.5 8.5l.94-2.06 2.06-.94-2.06-.94L8.5 2.5l-.94 2.06-2.06.94zm10 10l.94 2.06.94-2.06 2.06-.94-2.06-.94-.94-2.06-.94 2.06-2.06.94z\"/><path d=\"M17.41 7.96l-1.37-1.37c-.4-.4-.92-.59-1.43-.59-.52 0-1.04.2-1.43.59L10.3 9.45l-7.72 7.72c-.78.78-.78 2.05 0 2.83L4 21.41c.39.39.9.59 1.41.59.51 0 1.02-.2 1.41-.59l7.78-7.78 2.81-2.81c.8-.78.8-2.07 0-2.86zM5.41 20L4 18.59l7.72-7.72 1.47 1.35L5.41 20z\"/>\n",
              "  </svg>\n",
              "      </button>\n",
              "      \n",
              "  <style>\n",
              "    .colab-df-container {\n",
              "      display:flex;\n",
              "      flex-wrap:wrap;\n",
              "      gap: 12px;\n",
              "    }\n",
              "\n",
              "    .colab-df-convert {\n",
              "      background-color: #E8F0FE;\n",
              "      border: none;\n",
              "      border-radius: 50%;\n",
              "      cursor: pointer;\n",
              "      display: none;\n",
              "      fill: #1967D2;\n",
              "      height: 32px;\n",
              "      padding: 0 0 0 0;\n",
              "      width: 32px;\n",
              "    }\n",
              "\n",
              "    .colab-df-convert:hover {\n",
              "      background-color: #E2EBFA;\n",
              "      box-shadow: 0px 1px 2px rgba(60, 64, 67, 0.3), 0px 1px 3px 1px rgba(60, 64, 67, 0.15);\n",
              "      fill: #174EA6;\n",
              "    }\n",
              "\n",
              "    [theme=dark] .colab-df-convert {\n",
              "      background-color: #3B4455;\n",
              "      fill: #D2E3FC;\n",
              "    }\n",
              "\n",
              "    [theme=dark] .colab-df-convert:hover {\n",
              "      background-color: #434B5C;\n",
              "      box-shadow: 0px 1px 3px 1px rgba(0, 0, 0, 0.15);\n",
              "      filter: drop-shadow(0px 1px 2px rgba(0, 0, 0, 0.3));\n",
              "      fill: #FFFFFF;\n",
              "    }\n",
              "  </style>\n",
              "\n",
              "      <script>\n",
              "        const buttonEl =\n",
              "          document.querySelector('#df-c267a22b-a77d-43b8-87bb-63b16e5190c1 button.colab-df-convert');\n",
              "        buttonEl.style.display =\n",
              "          google.colab.kernel.accessAllowed ? 'block' : 'none';\n",
              "\n",
              "        async function convertToInteractive(key) {\n",
              "          const element = document.querySelector('#df-c267a22b-a77d-43b8-87bb-63b16e5190c1');\n",
              "          const dataTable =\n",
              "            await google.colab.kernel.invokeFunction('convertToInteractive',\n",
              "                                                     [key], {});\n",
              "          if (!dataTable) return;\n",
              "\n",
              "          const docLinkHtml = 'Like what you see? Visit the ' +\n",
              "            '<a target=\"_blank\" href=https://colab.research.google.com/notebooks/data_table.ipynb>data table notebook</a>'\n",
              "            + ' to learn more about interactive tables.';\n",
              "          element.innerHTML = '';\n",
              "          dataTable['output_type'] = 'display_data';\n",
              "          await google.colab.output.renderOutput(dataTable, element);\n",
              "          const docLink = document.createElement('div');\n",
              "          docLink.innerHTML = docLinkHtml;\n",
              "          element.appendChild(docLink);\n",
              "        }\n",
              "      </script>\n",
              "    </div>\n",
              "  </div>\n",
              "  "
            ]
          },
          "metadata": {},
          "execution_count": 5
        }
      ]
    },
    {
      "cell_type": "code",
      "source": [
        "raw_data.describe()"
      ],
      "metadata": {
        "colab": {
          "base_uri": "https://localhost:8080/",
          "height": 394
        },
        "id": "s3e3xEIdP9sd",
        "outputId": "80fb063d-5ed2-41b3-d031-5ffdb09131f9"
      },
      "execution_count": null,
      "outputs": [
        {
          "output_type": "execute_result",
          "data": {
            "text/plain": [
              "                 X1            X2            X3            X4            X5  \\\n",
              "count  11500.000000  11500.000000  11500.000000  11500.000000  11500.000000   \n",
              "mean     -11.581391    -10.911565    -10.187130     -9.143043     -8.009739   \n",
              "std      165.626284    166.059609    163.524317    161.269041    160.998007   \n",
              "min    -1839.000000  -1838.000000  -1835.000000  -1845.000000  -1791.000000   \n",
              "25%      -54.000000    -55.000000    -54.000000    -54.000000    -54.000000   \n",
              "50%       -8.000000     -8.000000     -7.000000     -8.000000     -8.000000   \n",
              "75%       34.000000     35.000000     36.000000     36.000000     35.000000   \n",
              "max     1726.000000   1713.000000   1697.000000   1612.000000   1518.000000   \n",
              "\n",
              "                 X6            X7           X8           X9           X10  \\\n",
              "count  11500.000000  11500.000000  11500.00000  11500.00000  11500.000000   \n",
              "mean      -7.003478     -6.502087     -6.68713     -6.55800     -6.168435   \n",
              "std      161.328725    161.467837    162.11912    162.03336    160.436352   \n",
              "min    -1757.000000  -1832.000000  -1778.00000  -1840.00000  -1867.000000   \n",
              "25%      -54.000000    -54.000000    -55.00000    -55.00000    -54.000000   \n",
              "50%       -8.000000     -8.000000     -8.00000     -7.00000     -7.000000   \n",
              "75%       36.000000     35.000000     36.00000     36.00000     35.250000   \n",
              "max     1816.000000   2047.000000   2047.00000   2047.00000   2047.000000   \n",
              "\n",
              "       ...          X170          X171          X172          X173  \\\n",
              "count  ...  11500.000000  11500.000000  11500.000000  11500.000000   \n",
              "mean   ...    -10.145739    -11.630348    -12.943478    -13.668870   \n",
              "std    ...    164.652883    166.149790    168.554058    168.556486   \n",
              "min    ...  -1867.000000  -1865.000000  -1642.000000  -1723.000000   \n",
              "25%    ...    -55.000000    -56.000000    -56.000000    -56.000000   \n",
              "50%    ...     -9.000000    -10.000000    -10.000000    -10.000000   \n",
              "75%    ...     34.000000     34.000000     33.000000     33.000000   \n",
              "max    ...   1777.000000   1472.000000   1319.000000   1436.000000   \n",
              "\n",
              "               X174          X175          X176          X177          X178  \\\n",
              "count  11500.000000  11500.000000  11500.000000  11500.000000  11500.000000   \n",
              "mean     -13.363304    -13.045043    -12.705130    -12.426000    -12.195652   \n",
              "std      167.257290    164.241019    162.895832    162.886311    164.852015   \n",
              "min    -1866.000000  -1863.000000  -1781.000000  -1727.000000  -1829.000000   \n",
              "25%      -55.000000    -56.000000    -55.000000    -55.000000    -55.000000   \n",
              "50%      -10.000000     -9.000000     -9.000000     -9.000000     -9.000000   \n",
              "75%       34.000000     34.000000     34.000000     34.000000     34.000000   \n",
              "max     1733.000000   1958.000000   2047.000000   2047.000000   1915.000000   \n",
              "\n",
              "                  y  \n",
              "count  11500.000000  \n",
              "mean       3.000000  \n",
              "std        1.414275  \n",
              "min        1.000000  \n",
              "25%        2.000000  \n",
              "50%        3.000000  \n",
              "75%        4.000000  \n",
              "max        5.000000  \n",
              "\n",
              "[8 rows x 179 columns]"
            ],
            "text/html": [
              "\n",
              "  <div id=\"df-2a9c1235-087f-4db6-a31f-1aa20b389e49\">\n",
              "    <div class=\"colab-df-container\">\n",
              "      <div>\n",
              "<style scoped>\n",
              "    .dataframe tbody tr th:only-of-type {\n",
              "        vertical-align: middle;\n",
              "    }\n",
              "\n",
              "    .dataframe tbody tr th {\n",
              "        vertical-align: top;\n",
              "    }\n",
              "\n",
              "    .dataframe thead th {\n",
              "        text-align: right;\n",
              "    }\n",
              "</style>\n",
              "<table border=\"1\" class=\"dataframe\">\n",
              "  <thead>\n",
              "    <tr style=\"text-align: right;\">\n",
              "      <th></th>\n",
              "      <th>X1</th>\n",
              "      <th>X2</th>\n",
              "      <th>X3</th>\n",
              "      <th>X4</th>\n",
              "      <th>X5</th>\n",
              "      <th>X6</th>\n",
              "      <th>X7</th>\n",
              "      <th>X8</th>\n",
              "      <th>X9</th>\n",
              "      <th>X10</th>\n",
              "      <th>...</th>\n",
              "      <th>X170</th>\n",
              "      <th>X171</th>\n",
              "      <th>X172</th>\n",
              "      <th>X173</th>\n",
              "      <th>X174</th>\n",
              "      <th>X175</th>\n",
              "      <th>X176</th>\n",
              "      <th>X177</th>\n",
              "      <th>X178</th>\n",
              "      <th>y</th>\n",
              "    </tr>\n",
              "  </thead>\n",
              "  <tbody>\n",
              "    <tr>\n",
              "      <th>count</th>\n",
              "      <td>11500.000000</td>\n",
              "      <td>11500.000000</td>\n",
              "      <td>11500.000000</td>\n",
              "      <td>11500.000000</td>\n",
              "      <td>11500.000000</td>\n",
              "      <td>11500.000000</td>\n",
              "      <td>11500.000000</td>\n",
              "      <td>11500.00000</td>\n",
              "      <td>11500.00000</td>\n",
              "      <td>11500.000000</td>\n",
              "      <td>...</td>\n",
              "      <td>11500.000000</td>\n",
              "      <td>11500.000000</td>\n",
              "      <td>11500.000000</td>\n",
              "      <td>11500.000000</td>\n",
              "      <td>11500.000000</td>\n",
              "      <td>11500.000000</td>\n",
              "      <td>11500.000000</td>\n",
              "      <td>11500.000000</td>\n",
              "      <td>11500.000000</td>\n",
              "      <td>11500.000000</td>\n",
              "    </tr>\n",
              "    <tr>\n",
              "      <th>mean</th>\n",
              "      <td>-11.581391</td>\n",
              "      <td>-10.911565</td>\n",
              "      <td>-10.187130</td>\n",
              "      <td>-9.143043</td>\n",
              "      <td>-8.009739</td>\n",
              "      <td>-7.003478</td>\n",
              "      <td>-6.502087</td>\n",
              "      <td>-6.68713</td>\n",
              "      <td>-6.55800</td>\n",
              "      <td>-6.168435</td>\n",
              "      <td>...</td>\n",
              "      <td>-10.145739</td>\n",
              "      <td>-11.630348</td>\n",
              "      <td>-12.943478</td>\n",
              "      <td>-13.668870</td>\n",
              "      <td>-13.363304</td>\n",
              "      <td>-13.045043</td>\n",
              "      <td>-12.705130</td>\n",
              "      <td>-12.426000</td>\n",
              "      <td>-12.195652</td>\n",
              "      <td>3.000000</td>\n",
              "    </tr>\n",
              "    <tr>\n",
              "      <th>std</th>\n",
              "      <td>165.626284</td>\n",
              "      <td>166.059609</td>\n",
              "      <td>163.524317</td>\n",
              "      <td>161.269041</td>\n",
              "      <td>160.998007</td>\n",
              "      <td>161.328725</td>\n",
              "      <td>161.467837</td>\n",
              "      <td>162.11912</td>\n",
              "      <td>162.03336</td>\n",
              "      <td>160.436352</td>\n",
              "      <td>...</td>\n",
              "      <td>164.652883</td>\n",
              "      <td>166.149790</td>\n",
              "      <td>168.554058</td>\n",
              "      <td>168.556486</td>\n",
              "      <td>167.257290</td>\n",
              "      <td>164.241019</td>\n",
              "      <td>162.895832</td>\n",
              "      <td>162.886311</td>\n",
              "      <td>164.852015</td>\n",
              "      <td>1.414275</td>\n",
              "    </tr>\n",
              "    <tr>\n",
              "      <th>min</th>\n",
              "      <td>-1839.000000</td>\n",
              "      <td>-1838.000000</td>\n",
              "      <td>-1835.000000</td>\n",
              "      <td>-1845.000000</td>\n",
              "      <td>-1791.000000</td>\n",
              "      <td>-1757.000000</td>\n",
              "      <td>-1832.000000</td>\n",
              "      <td>-1778.00000</td>\n",
              "      <td>-1840.00000</td>\n",
              "      <td>-1867.000000</td>\n",
              "      <td>...</td>\n",
              "      <td>-1867.000000</td>\n",
              "      <td>-1865.000000</td>\n",
              "      <td>-1642.000000</td>\n",
              "      <td>-1723.000000</td>\n",
              "      <td>-1866.000000</td>\n",
              "      <td>-1863.000000</td>\n",
              "      <td>-1781.000000</td>\n",
              "      <td>-1727.000000</td>\n",
              "      <td>-1829.000000</td>\n",
              "      <td>1.000000</td>\n",
              "    </tr>\n",
              "    <tr>\n",
              "      <th>25%</th>\n",
              "      <td>-54.000000</td>\n",
              "      <td>-55.000000</td>\n",
              "      <td>-54.000000</td>\n",
              "      <td>-54.000000</td>\n",
              "      <td>-54.000000</td>\n",
              "      <td>-54.000000</td>\n",
              "      <td>-54.000000</td>\n",
              "      <td>-55.00000</td>\n",
              "      <td>-55.00000</td>\n",
              "      <td>-54.000000</td>\n",
              "      <td>...</td>\n",
              "      <td>-55.000000</td>\n",
              "      <td>-56.000000</td>\n",
              "      <td>-56.000000</td>\n",
              "      <td>-56.000000</td>\n",
              "      <td>-55.000000</td>\n",
              "      <td>-56.000000</td>\n",
              "      <td>-55.000000</td>\n",
              "      <td>-55.000000</td>\n",
              "      <td>-55.000000</td>\n",
              "      <td>2.000000</td>\n",
              "    </tr>\n",
              "    <tr>\n",
              "      <th>50%</th>\n",
              "      <td>-8.000000</td>\n",
              "      <td>-8.000000</td>\n",
              "      <td>-7.000000</td>\n",
              "      <td>-8.000000</td>\n",
              "      <td>-8.000000</td>\n",
              "      <td>-8.000000</td>\n",
              "      <td>-8.000000</td>\n",
              "      <td>-8.00000</td>\n",
              "      <td>-7.00000</td>\n",
              "      <td>-7.000000</td>\n",
              "      <td>...</td>\n",
              "      <td>-9.000000</td>\n",
              "      <td>-10.000000</td>\n",
              "      <td>-10.000000</td>\n",
              "      <td>-10.000000</td>\n",
              "      <td>-10.000000</td>\n",
              "      <td>-9.000000</td>\n",
              "      <td>-9.000000</td>\n",
              "      <td>-9.000000</td>\n",
              "      <td>-9.000000</td>\n",
              "      <td>3.000000</td>\n",
              "    </tr>\n",
              "    <tr>\n",
              "      <th>75%</th>\n",
              "      <td>34.000000</td>\n",
              "      <td>35.000000</td>\n",
              "      <td>36.000000</td>\n",
              "      <td>36.000000</td>\n",
              "      <td>35.000000</td>\n",
              "      <td>36.000000</td>\n",
              "      <td>35.000000</td>\n",
              "      <td>36.00000</td>\n",
              "      <td>36.00000</td>\n",
              "      <td>35.250000</td>\n",
              "      <td>...</td>\n",
              "      <td>34.000000</td>\n",
              "      <td>34.000000</td>\n",
              "      <td>33.000000</td>\n",
              "      <td>33.000000</td>\n",
              "      <td>34.000000</td>\n",
              "      <td>34.000000</td>\n",
              "      <td>34.000000</td>\n",
              "      <td>34.000000</td>\n",
              "      <td>34.000000</td>\n",
              "      <td>4.000000</td>\n",
              "    </tr>\n",
              "    <tr>\n",
              "      <th>max</th>\n",
              "      <td>1726.000000</td>\n",
              "      <td>1713.000000</td>\n",
              "      <td>1697.000000</td>\n",
              "      <td>1612.000000</td>\n",
              "      <td>1518.000000</td>\n",
              "      <td>1816.000000</td>\n",
              "      <td>2047.000000</td>\n",
              "      <td>2047.00000</td>\n",
              "      <td>2047.00000</td>\n",
              "      <td>2047.000000</td>\n",
              "      <td>...</td>\n",
              "      <td>1777.000000</td>\n",
              "      <td>1472.000000</td>\n",
              "      <td>1319.000000</td>\n",
              "      <td>1436.000000</td>\n",
              "      <td>1733.000000</td>\n",
              "      <td>1958.000000</td>\n",
              "      <td>2047.000000</td>\n",
              "      <td>2047.000000</td>\n",
              "      <td>1915.000000</td>\n",
              "      <td>5.000000</td>\n",
              "    </tr>\n",
              "  </tbody>\n",
              "</table>\n",
              "<p>8 rows × 179 columns</p>\n",
              "</div>\n",
              "      <button class=\"colab-df-convert\" onclick=\"convertToInteractive('df-2a9c1235-087f-4db6-a31f-1aa20b389e49')\"\n",
              "              title=\"Convert this dataframe to an interactive table.\"\n",
              "              style=\"display:none;\">\n",
              "        \n",
              "  <svg xmlns=\"http://www.w3.org/2000/svg\" height=\"24px\"viewBox=\"0 0 24 24\"\n",
              "       width=\"24px\">\n",
              "    <path d=\"M0 0h24v24H0V0z\" fill=\"none\"/>\n",
              "    <path d=\"M18.56 5.44l.94 2.06.94-2.06 2.06-.94-2.06-.94-.94-2.06-.94 2.06-2.06.94zm-11 1L8.5 8.5l.94-2.06 2.06-.94-2.06-.94L8.5 2.5l-.94 2.06-2.06.94zm10 10l.94 2.06.94-2.06 2.06-.94-2.06-.94-.94-2.06-.94 2.06-2.06.94z\"/><path d=\"M17.41 7.96l-1.37-1.37c-.4-.4-.92-.59-1.43-.59-.52 0-1.04.2-1.43.59L10.3 9.45l-7.72 7.72c-.78.78-.78 2.05 0 2.83L4 21.41c.39.39.9.59 1.41.59.51 0 1.02-.2 1.41-.59l7.78-7.78 2.81-2.81c.8-.78.8-2.07 0-2.86zM5.41 20L4 18.59l7.72-7.72 1.47 1.35L5.41 20z\"/>\n",
              "  </svg>\n",
              "      </button>\n",
              "      \n",
              "  <style>\n",
              "    .colab-df-container {\n",
              "      display:flex;\n",
              "      flex-wrap:wrap;\n",
              "      gap: 12px;\n",
              "    }\n",
              "\n",
              "    .colab-df-convert {\n",
              "      background-color: #E8F0FE;\n",
              "      border: none;\n",
              "      border-radius: 50%;\n",
              "      cursor: pointer;\n",
              "      display: none;\n",
              "      fill: #1967D2;\n",
              "      height: 32px;\n",
              "      padding: 0 0 0 0;\n",
              "      width: 32px;\n",
              "    }\n",
              "\n",
              "    .colab-df-convert:hover {\n",
              "      background-color: #E2EBFA;\n",
              "      box-shadow: 0px 1px 2px rgba(60, 64, 67, 0.3), 0px 1px 3px 1px rgba(60, 64, 67, 0.15);\n",
              "      fill: #174EA6;\n",
              "    }\n",
              "\n",
              "    [theme=dark] .colab-df-convert {\n",
              "      background-color: #3B4455;\n",
              "      fill: #D2E3FC;\n",
              "    }\n",
              "\n",
              "    [theme=dark] .colab-df-convert:hover {\n",
              "      background-color: #434B5C;\n",
              "      box-shadow: 0px 1px 3px 1px rgba(0, 0, 0, 0.15);\n",
              "      filter: drop-shadow(0px 1px 2px rgba(0, 0, 0, 0.3));\n",
              "      fill: #FFFFFF;\n",
              "    }\n",
              "  </style>\n",
              "\n",
              "      <script>\n",
              "        const buttonEl =\n",
              "          document.querySelector('#df-2a9c1235-087f-4db6-a31f-1aa20b389e49 button.colab-df-convert');\n",
              "        buttonEl.style.display =\n",
              "          google.colab.kernel.accessAllowed ? 'block' : 'none';\n",
              "\n",
              "        async function convertToInteractive(key) {\n",
              "          const element = document.querySelector('#df-2a9c1235-087f-4db6-a31f-1aa20b389e49');\n",
              "          const dataTable =\n",
              "            await google.colab.kernel.invokeFunction('convertToInteractive',\n",
              "                                                     [key], {});\n",
              "          if (!dataTable) return;\n",
              "\n",
              "          const docLinkHtml = 'Like what you see? Visit the ' +\n",
              "            '<a target=\"_blank\" href=https://colab.research.google.com/notebooks/data_table.ipynb>data table notebook</a>'\n",
              "            + ' to learn more about interactive tables.';\n",
              "          element.innerHTML = '';\n",
              "          dataTable['output_type'] = 'display_data';\n",
              "          await google.colab.output.renderOutput(dataTable, element);\n",
              "          const docLink = document.createElement('div');\n",
              "          docLink.innerHTML = docLinkHtml;\n",
              "          element.appendChild(docLink);\n",
              "        }\n",
              "      </script>\n",
              "    </div>\n",
              "  </div>\n",
              "  "
            ]
          },
          "metadata": {},
          "execution_count": 6
        }
      ]
    },
    {
      "cell_type": "code",
      "source": [
        "raw_data.shape"
      ],
      "metadata": {
        "colab": {
          "base_uri": "https://localhost:8080/"
        },
        "id": "FB9yd98JQGu1",
        "outputId": "92846ab1-d692-4c67-e83d-ce14a765a092"
      },
      "execution_count": null,
      "outputs": [
        {
          "output_type": "execute_result",
          "data": {
            "text/plain": [
              "(11500, 180)"
            ]
          },
          "metadata": {},
          "execution_count": 7
        }
      ]
    },
    {
      "cell_type": "code",
      "source": [
        "data = raw_data.values\n",
        "data = data[1:11500, 1:180]\n",
        "data.shape"
      ],
      "metadata": {
        "id": "kpm9yXnGev7J",
        "outputId": "552f3f51-10b7-4421-dff4-b1573f0d4661",
        "execution": {
          "iopub.status.busy": "2023-05-11T06:54:58.294867Z",
          "iopub.execute_input": "2023-05-11T06:54:58.295261Z",
          "iopub.status.idle": "2023-05-11T06:54:58.464227Z",
          "shell.execute_reply.started": "2023-05-11T06:54:58.295220Z",
          "shell.execute_reply": "2023-05-11T06:54:58.463314Z"
        },
        "trusted": true,
        "colab": {
          "base_uri": "https://localhost:8080/"
        }
      },
      "execution_count": null,
      "outputs": [
        {
          "output_type": "execute_result",
          "data": {
            "text/plain": [
              "(11499, 179)"
            ]
          },
          "metadata": {},
          "execution_count": 8
        }
      ]
    },
    {
      "cell_type": "code",
      "source": [
        "# Classifying data categories\n",
        "# Data source: https://www.kaggle.com/harunshimanto/epileptic-seizure-recognition\n",
        "\n",
        "D = data\n",
        "df_1 = D[D[:, 178]==1]\n",
        "df_2 = D[D[:, 178]==2]\n",
        "df_3 = D[D[:, 178]==3]\n",
        "df_4 = D[D[:, 178]==4]\n",
        "df_5 = D[D[:, 178]==5]\n",
        "\n",
        "print(df_1.shape)\n",
        "print(df_2.shape)\n",
        "print(df_3.shape)\n",
        "print(df_4.shape)\n",
        "print(df_5.shape)\n",
        "\n",
        "df_1 = df_1.astype(int)\n",
        "df_2 = df_2.astype(int)\n",
        "df_3 = df_3.astype(int)\n",
        "df_4 = df_4.astype(int)\n",
        "df_5 = df_5.astype(int)\n"
      ],
      "metadata": {
        "id": "8QuJJyZUEwK4",
        "outputId": "545374ea-60bc-4cf8-db1a-945ac32ed4e1",
        "execution": {
          "iopub.status.busy": "2023-05-11T06:55:08.583704Z",
          "iopub.execute_input": "2023-05-11T06:55:08.584008Z",
          "iopub.status.idle": "2023-05-11T06:55:08.828029Z",
          "shell.execute_reply.started": "2023-05-11T06:55:08.583976Z",
          "shell.execute_reply": "2023-05-11T06:55:08.827067Z"
        },
        "trusted": true,
        "colab": {
          "base_uri": "https://localhost:8080/"
        }
      },
      "execution_count": null,
      "outputs": [
        {
          "output_type": "stream",
          "name": "stdout",
          "text": [
            "(2300, 179)\n",
            "(2300, 179)\n",
            "(2300, 179)\n",
            "(2299, 179)\n",
            "(2300, 179)\n"
          ]
        }
      ]
    },
    {
      "cell_type": "markdown",
      "source": [
        "As we can see, there are 178 EEG features and 5 possible classes. The main goal of the dataset it's to be able to correctly identify epileptic seizures from EEG data, so a binary classification between classes of label 1 and the rest (2,3,4,5). In order to train our model, let's define our independent variables (X) and our dependent variable (y)."
      ],
      "metadata": {
        "_uuid": "3b8358047321392e0f1a2fb20ca53c6668d8cdf3",
        "id": "qyVljTTbMV8S"
      }
    },
    {
      "cell_type": "code",
      "source": [
        "plt.subplot(511)\n",
        "plt.plot(data[1,:])\n",
        "plt.title('Classes')\n",
        "plt.ylabel('uV')\n",
        "plt.subplot(512)\n",
        "plt.plot(data[7,:])\n",
        "plt.subplot(513)\n",
        "plt.plot(data[12,:])\n",
        "plt.subplot(514)\n",
        "plt.plot(data[0,:])\n",
        "plt.subplot(515)\n",
        "plt.plot(data[2,:])\n",
        "plt.xlabel('Samples')"
      ],
      "metadata": {
        "_kg_hide-input": true,
        "_uuid": "1c4c72aceecdc35866aee2ec777a435abaf46fc3",
        "execution": {
          "iopub.status.busy": "2023-05-03T16:42:02.687148Z",
          "iopub.execute_input": "2023-05-03T16:42:02.687689Z",
          "iopub.status.idle": "2023-05-03T16:42:03.192303Z",
          "shell.execute_reply.started": "2023-05-03T16:42:02.687610Z",
          "shell.execute_reply": "2023-05-03T16:42:03.191432Z"
        },
        "trusted": true,
        "outputId": "2e990e12-baf1-4ab5-833f-e563835ba765",
        "colab": {
          "base_uri": "https://localhost:8080/",
          "height": 490
        },
        "id": "OrJKxekiSFgC"
      },
      "execution_count": null,
      "outputs": [
        {
          "output_type": "execute_result",
          "data": {
            "text/plain": [
              "Text(0.5, 0, 'Samples')"
            ]
          },
          "metadata": {},
          "execution_count": 10
        },
        {
          "output_type": "display_data",
          "data": {
            "text/plain": [
              "<Figure size 640x480 with 5 Axes>"
            ],
            "image/png": "[encoded data removed]"
          },
          "metadata": {}
        }
      ]
    },
    {
      "cell_type": "markdown",
      "source": [
        "#  &#128223; Data Pre-processing\n",
        "\n",
        "## What is Data Pre-pocessing?\n",
        "![Imgur](https://i.imgur.com/HyPUqwF.png)\n",
        "Data preprocessing is a data mining technique that involves transforming raw data into an understandable format. Real-world data is often incomplete, inconsistent, and/or lacking in certain behaviors or trends, and is likely to contain many errors. Data preprocessing is a proven method of resolving such issues. Data preprocessing prepares raw data for further processing.\n",
        "![Imgur](https://i.imgur.com/VuYZfho.jpg)"
      ],
      "metadata": {
        "_uuid": "85c42387f7cbe1d864e6ecd78110d36543b49c94",
        "trusted": true,
        "id": "igqUYeMvMV8S"
      }
    },
    {
      "cell_type": "markdown",
      "source": [
        "## &#128223; 1. Checking Missing Data"
      ],
      "metadata": {
        "_uuid": "552d8f6aa05052620464a652d2a381c266a2fd98",
        "trusted": true,
        "id": "nWVipcf4MV8T"
      }
    },
    {
      "cell_type": "code",
      "source": [
        "raw_data.isnull().sum()"
      ],
      "metadata": {
        "_kg_hide-input": true,
        "_uuid": "aad4b40423e626080316e9baf284b7ee75b64d08",
        "execution": {
          "iopub.status.busy": "2023-05-03T16:41:44.505195Z",
          "iopub.execute_input": "2023-05-03T16:41:44.505531Z",
          "iopub.status.idle": "2023-05-03T16:41:44.551192Z",
          "shell.execute_reply.started": "2023-05-03T16:41:44.505475Z",
          "shell.execute_reply": "2023-05-03T16:41:44.550345Z"
        },
        "trusted": true,
        "id": "bz3d5zybMV8T",
        "outputId": "fe225ee7-c84b-4938-c94d-e9b38a1fbb38",
        "colab": {
          "base_uri": "https://localhost:8080/"
        }
      },
      "execution_count": null,
      "outputs": [
        {
          "output_type": "execute_result",
          "data": {
            "text/plain": [
              "Unnamed    0\n",
              "X1         0\n",
              "X2         0\n",
              "X3         0\n",
              "X4         0\n",
              "          ..\n",
              "X175       0\n",
              "X176       0\n",
              "X177       0\n",
              "X178       0\n",
              "y          0\n",
              "Length: 180, dtype: int64"
            ]
          },
          "metadata": {},
          "execution_count": 11
        }
      ]
    },
    {
      "cell_type": "markdown",
      "source": [
        "###  &#128210; Note:\n",
        "Thats great here is no missing value. So we can work very smoothly."
      ],
      "metadata": {
        "_uuid": "dc7b27a8bd5b7cea21b2dcd3a3c29676e18c1bb4",
        "id": "LiCQD5kmMV8T"
      }
    },
    {
      "cell_type": "markdown",
      "source": [
        "# &#128203; Exploratory Data Analysis"
      ],
      "metadata": {
        "_uuid": "ab3a886cede2b110c7a6f5a28f42a15b478559e0",
        "id": "KHULMsOsMV8T"
      }
    },
    {
      "cell_type": "markdown",
      "source": [
        "## &#128505; What is Exploratory data analysis?\n",
        "![Imgur](https://i.imgur.com/HyPUqwF.png)\n",
        "In statistics, exploratory data analysis (EDA) is an approach to analyzing data sets to summarize their main characteristics, often with visual methods. A statistical model can be used or not, but primarily EDA is for seeing what the data can tell us beyond the formal modeling or hypothesis testing task.\n",
        "\n",
        "You can say that EDA is statisticians way of story telling where you explore data, find patterns and tells insights. Often you have some questions in hand you try to validate those questions by performing EDA. <b>I have one article on [EDA](https://hackernoon.com/overview-of-exploratory-data-analysis-with-python-6213e105b00b)"
      ],
      "metadata": {
        "_uuid": "cdaf9a18dd4802a74fda29c78b594fdea389e2b1",
        "id": "n6gKTIy0MV8T"
      }
    },
    {
      "cell_type": "code",
      "source": [
        "raw_data.info()"
      ],
      "metadata": {
        "_kg_hide-input": true,
        "_uuid": "e88bcff9f978e728a07d29bd99eee000ec0e3bcc",
        "execution": {
          "iopub.status.busy": "2023-05-03T16:41:51.027672Z",
          "iopub.execute_input": "2023-05-03T16:41:51.028333Z",
          "iopub.status.idle": "2023-05-03T16:41:51.043484Z",
          "shell.execute_reply.started": "2023-05-03T16:41:51.027939Z",
          "shell.execute_reply": "2023-05-03T16:41:51.042613Z"
        },
        "trusted": true,
        "id": "sNRl9eZJMV8T",
        "outputId": "8904b7ee-8633-49b5-8260-876b0669b19e",
        "colab": {
          "base_uri": "https://localhost:8080/"
        }
      },
      "execution_count": null,
      "outputs": [
        {
          "output_type": "stream",
          "name": "stdout",
          "text": [
            "<class 'pandas.core.frame.DataFrame'>\n",
            "RangeIndex: 11500 entries, 0 to 11499\n",
            "Columns: 180 entries, Unnamed to y\n",
            "dtypes: int64(179), object(1)\n",
            "memory usage: 15.8+ MB\n"
          ]
        }
      ]
    },
    {
      "cell_type": "code",
      "source": [
        "X = raw_data.iloc[:,1:179].values\n",
        "X.shape"
      ],
      "metadata": {
        "_kg_hide-input": true,
        "_uuid": "38ab208871375f43e6afced6a807f23a85468a68",
        "execution": {
          "iopub.status.busy": "2023-05-03T16:41:59.875771Z",
          "iopub.execute_input": "2023-05-03T16:41:59.876403Z",
          "iopub.status.idle": "2023-05-03T16:41:59.888471Z",
          "shell.execute_reply.started": "2023-05-03T16:41:59.876336Z",
          "shell.execute_reply": "2023-05-03T16:41:59.887726Z"
        },
        "trusted": true,
        "id": "nKcRQsBxMV8U",
        "outputId": "aa44f2a9-5c2c-4591-d939-ecbaba6c21d7",
        "colab": {
          "base_uri": "https://localhost:8080/"
        }
      },
      "execution_count": null,
      "outputs": [
        {
          "output_type": "execute_result",
          "data": {
            "text/plain": [
              "(11500, 178)"
            ]
          },
          "metadata": {},
          "execution_count": 14
        }
      ]
    },
    {
      "cell_type": "code",
      "source": [
        "y = raw_data.iloc[:,179].values\n",
        "y"
      ],
      "metadata": {
        "_kg_hide-input": true,
        "_uuid": "32875b29c90672f90bdba34fcb94656dfce9fb70",
        "execution": {
          "iopub.status.busy": "2023-05-03T16:42:12.611233Z",
          "iopub.execute_input": "2023-05-03T16:42:12.611573Z",
          "iopub.status.idle": "2023-05-03T16:42:12.620169Z",
          "shell.execute_reply.started": "2023-05-03T16:42:12.611518Z",
          "shell.execute_reply": "2023-05-03T16:42:12.619048Z"
        },
        "trusted": true,
        "id": "vLaCq_wTMV8U",
        "outputId": "30a7df2c-654e-4798-9d4b-3de115e8bc69",
        "colab": {
          "base_uri": "https://localhost:8080/"
        }
      },
      "execution_count": null,
      "outputs": [
        {
          "output_type": "execute_result",
          "data": {
            "text/plain": [
              "array([4, 1, 5, ..., 5, 3, 4])"
            ]
          },
          "metadata": {},
          "execution_count": 15
        }
      ]
    },
    {
      "cell_type": "markdown",
      "source": [
        "To make this a binary problem, let's turn the non-seizure classes 0 while maintaining the seizure as 1."
      ],
      "metadata": {
        "_uuid": "182336e56e686533317d167bda1b5de60e3a3d14",
        "id": "9fbImA8-MV8U"
      }
    },
    {
      "cell_type": "code",
      "source": [
        "y[y>1]=0\n",
        "y"
      ],
      "metadata": {
        "_kg_hide-input": true,
        "_uuid": "67cdd58fc5bdc0fea9fff3a6c3eb030d17bb5fef",
        "execution": {
          "iopub.status.busy": "2023-05-03T16:42:17.136548Z",
          "iopub.execute_input": "2023-05-03T16:42:17.136873Z",
          "iopub.status.idle": "2023-05-03T16:42:17.142667Z",
          "shell.execute_reply.started": "2023-05-03T16:42:17.136820Z",
          "shell.execute_reply": "2023-05-03T16:42:17.141726Z"
        },
        "trusted": true,
        "id": "OKahodDYMV8V",
        "outputId": "129adc50-6302-4894-e022-4e04f7142e01"
      },
      "execution_count": null,
      "outputs": [
        {
          "execution_count": 13,
          "output_type": "execute_result",
          "data": {
            "text/plain": "array([0, 1, 0, ..., 0, 0, 0])"
          },
          "metadata": {}
        }
      ]
    },
    {
      "cell_type": "code",
      "source": [],
      "metadata": {
        "id": "NDKd2xloO4eP"
      },
      "execution_count": null,
      "outputs": []
    },
    {
      "cell_type": "markdown",
      "source": [
        "# &#128295; Building Deep Learning Models"
      ],
      "metadata": {
        "_uuid": "d8f8bee91ce354f316e8ebb6d43f3a38d468c06e",
        "id": "VMn4bWtvMV8V"
      }
    },
    {
      "cell_type": "markdown",
      "source": [
        "##  Splitting the Dataset into the Training set and Test set\n"
      ],
      "metadata": {
        "_uuid": "3935f14daec0df6ff948054196c77fdf6a8d9196",
        "id": "irxe__vHMV8V"
      }
    },
    {
      "cell_type": "code",
      "source": [
        "df_3[:, 178] = df_3[:, 178] - 3\n",
        "D1 = np.concatenate([df_1, df_3])"
      ],
      "metadata": {
        "id": "3ddnSuEBHKjR",
        "execution": {
          "iopub.status.busy": "2023-05-11T06:55:19.204356Z",
          "iopub.execute_input": "2023-05-11T06:55:19.204761Z",
          "iopub.status.idle": "2023-05-11T06:55:19.219054Z",
          "shell.execute_reply.started": "2023-05-11T06:55:19.204717Z",
          "shell.execute_reply": "2023-05-11T06:55:19.217365Z"
        },
        "trusted": true
      },
      "execution_count": null,
      "outputs": []
    },
    {
      "cell_type": "code",
      "source": [
        "# Creating training (80), validation (10) and test (10) data from category 1 and 3\n",
        "number_of_rows = D1.shape[0]\n",
        "\n",
        "random_indices = np.random.choice(number_of_rows, size=int(number_of_rows*0.8), replace=False)\n",
        "\n",
        "label_train = D1[random_indices, -1]\n",
        "data_train = D1[random_indices, :-1]\n",
        "\n",
        "D1_rest = np.delete(D1, random_indices, 0)\n",
        "\n",
        "number_of_rows = D1_rest.shape[0]\n",
        "random_indices = np.random.choice(number_of_rows, size=int(number_of_rows*0.5), replace=False)\n",
        "\n",
        "label_val = D1_rest[random_indices, -1]\n",
        "data_val = D1_rest[random_indices, :-1]\n",
        "\n",
        "D1_rest_rest = np.delete(D1_rest, random_indices, 0)\n",
        "label_test = D1_rest_rest[:, -1]\n",
        "data_test = D1_rest_rest[:, :-1]\n",
        "\n",
        "data_train = np.expand_dims(data_train, axis=2)\n",
        "data_val = np.expand_dims(data_val, axis=2)\n",
        "data_test = np.expand_dims(data_test, axis=2)\n",
        "\n",
        "print(label_train.shape, data_train.shape)\n",
        "print(label_val.shape, data_val.shape)\n",
        "print(label_test.shape, data_test.shape)"
      ],
      "metadata": {
        "id": "wIh7SNdAIigY",
        "outputId": "a194ba23-ed22-4d60-e6b3-2d05ca4ac542",
        "execution": {
          "iopub.status.busy": "2023-05-11T06:55:24.544715Z",
          "iopub.execute_input": "2023-05-11T06:55:24.545138Z",
          "iopub.status.idle": "2023-05-11T06:55:24.572767Z",
          "shell.execute_reply.started": "2023-05-11T06:55:24.545094Z",
          "shell.execute_reply": "2023-05-11T06:55:24.571343Z"
        },
        "trusted": true,
        "colab": {
          "base_uri": "https://localhost:8080/"
        }
      },
      "execution_count": null,
      "outputs": [
        {
          "output_type": "stream",
          "name": "stdout",
          "text": [
            "(3680,) (3680, 178, 1)\n",
            "(460,) (460, 178, 1)\n",
            "(460,) (460, 178, 1)\n"
          ]
        }
      ]
    },
    {
      "cell_type": "markdown",
      "source": [
        "# 1. Artificial Neural Networks(ANN)\n",
        "![Imgur](https://i.imgur.com/HyPUqwF.png)\n",
        "Computers are great at solving algorithmic and math problems, but often the world can't easily be defined with a mathematical algorithm. Facial recognition and language processing are a couple of examples of problems that can't easily be quantified into an algorithm, however these tasks are trivial to humans. The key to Artificial Neural Networks is that their design enables them to process information in a similar way to our own biological brains, by drawing inspiration from how our own nervous system functions. This makes them useful tools for solving problems like facial recognition, which our biological brains can do easily."
      ],
      "metadata": {
        "_uuid": "724afa104f8fc061f379adb0ba408730e024abeb",
        "id": "SmrXK4baMV8o"
      }
    },
    {
      "cell_type": "markdown",
      "source": [
        "## Modeling Artificial Neurons\n",
        "Artificial neuron models are at their core simplified models based on biological neurons. This allows them to capture the essence of how a biological neuron functions. We usually refer to these artificial neurons as 'perceptrons'. So now lets take a look at what a perceptron looks like.\n",
        "![Imgur](https://i.imgur.com/uvMRQ6R.jpg)\n",
        "As shown in the diagram above a typical perceptron will have many inputs and these inputs are all individually weighted. The perceptron weights can either amplify or deamplify the original input signal. For example, if the input is 1 and the input's weight is 0.2 the input will be decreased to 0.2. These weighted signals are then added together and passed into the activation function. The activation function is used to convert the input into a more useful output. There are many different types of activation function but one of the simplest would be step function. A step function will typically output a 1 if the input is higher than a certain threshold, otherwise it's output will be 0."
      ],
      "metadata": {
        "_uuid": "a62b3d36e974853cec28f77b5a195a24bf04f5f4",
        "id": "jojHRtE7MV8o"
      }
    },
    {
      "cell_type": "markdown",
      "source": [
        "## Implementing Artificial Neural Networks\n",
        "So now you're probably wondering what an artificial neural network looks like and how it uses these artificial neurons to process information. In this tutorial we're going to be looking at feedforward networks and how their design links our perceptron together creating a functioning artificial neural network. Before we begin lets take a look at what a basic feedforward network looks like:\n",
        "![Imgur](https://i.imgur.com/la4Rwn6.jpg)\n",
        "Each input from the input layer is fed up to each node in the hidden layer, and from there to each node on the output layer. We should note that there can be any number of nodes per layer and there are usually multiple hidden layers to pass through before ultimately reaching the output layer. Choosing the right number of nodes and layers is important later on when optimising the neural network to work well a given problem. As you can probably tell from the diagram, it's called a feedforward network because of how the signals are passed through the layers of the neural network in a single direction. These aren't the only type of neural network though. There are also feedback networks where its architecture allows signals to travel in both directions."
      ],
      "metadata": {
        "_uuid": "b1cb8e842cc4865e02f3cd620ed2d1ce36529876",
        "id": "FVLkVdvMMV8o"
      }
    },
    {
      "cell_type": "code",
      "source": [
        "# Define model evaluation function\n",
        "def evaluate_model(history,X_test,y_test,model):\n",
        "    scores = model.evaluate((X_test),y_test, verbose=0)\n",
        "    print(\"Accuracy: %.2f%%\" % (scores[1]*100))\n",
        "\n",
        "    print(history)\n",
        "    fig1, ax_acc = plt.subplots()\n",
        "    plt.plot(history.history['accuracy'])\n",
        "    plt.plot(history.history['val_accuracy'])\n",
        "    plt.xlabel('Epoch')\n",
        "    plt.ylabel('Accuracy')\n",
        "    plt.title('Model - Accuracy')\n",
        "    plt.legend(['Training', 'Validation'], loc='lower right')\n",
        "    plt.show()\n",
        "\n",
        "    fig2, ax_loss = plt.subplots()\n",
        "    plt.xlabel('Epoch')\n",
        "    plt.ylabel('Loss')\n",
        "    plt.title('Model- Loss')\n",
        "    plt.legend(['Training', 'Validation'], loc='upper right')\n",
        "    plt.plot(history.history['loss'])\n",
        "    plt.plot(history.history['val_loss'])\n",
        "    plt.show()\n",
        "    target_names=['1','2', '3']\n",
        "\n",
        "    y_true=[]\n",
        "    for element in y_test:\n",
        "        y_true.append(np.argmax(element))\n",
        "    prediction_proba=model.predict(X_test)\n",
        "    prediction=np.argmax(prediction_proba,axis=1)\n",
        "    cnf_matrix = confusion_matrix(y_true, prediction)"
      ],
      "metadata": {
        "id": "rij5pqPPP0nj",
        "execution": {
          "iopub.status.busy": "2023-05-11T07:09:43.943681Z",
          "iopub.execute_input": "2023-05-11T07:09:43.944128Z",
          "iopub.status.idle": "2023-05-11T07:09:43.958973Z",
          "shell.execute_reply.started": "2023-05-11T07:09:43.944083Z",
          "shell.execute_reply": "2023-05-11T07:09:43.957793Z"
        },
        "trusted": true
      },
      "execution_count": null,
      "outputs": []
    },
    {
      "cell_type": "code",
      "source": [
        "# Define ANN network\n",
        "def network_ANN(X_train,y_train):\n",
        "    im_shape=(X_train.shape[1],1)\n",
        "    inputs_ann=Input(shape=(im_shape), name='inputs_ann')\n",
        "    flatten = Flatten()(inputs_ann)\n",
        "\n",
        "    dense = Dense(32, activation='relu' )(flatten)\n",
        "    dense_1 = Dense(16, activation='relu' )(dense)\n",
        "\n",
        "    main_output = Dense(2, activation='softmax')(dense_1)\n",
        "\n",
        "    model1 = Model(inputs= inputs_ann, outputs=main_output)\n",
        "    model1.compile(optimizer='adam', loss='sparse_categorical_crossentropy',metrics = ['accuracy'])\n",
        "\n",
        "    return(model1)"
      ],
      "metadata": {
        "id": "UG6nTG2yPjjW",
        "execution": {
          "iopub.status.busy": "2023-05-11T07:09:57.145267Z",
          "iopub.execute_input": "2023-05-11T07:09:57.145726Z",
          "iopub.status.idle": "2023-05-11T07:09:57.158424Z",
          "shell.execute_reply.started": "2023-05-11T07:09:57.145680Z",
          "shell.execute_reply": "2023-05-11T07:09:57.156821Z"
        },
        "trusted": true
      },
      "execution_count": null,
      "outputs": []
    },
    {
      "cell_type": "code",
      "source": [
        "# Define ANN model to be trained on epileptic vs healthy data\n",
        "model1 = network_ANN(data_train,label_train)\n",
        "print(model1.summary())"
      ],
      "metadata": {
        "id": "FRWl8FxOP6PZ",
        "outputId": "6f0149d0-4b9b-4175-ec76-f46a27913c2b",
        "execution": {
          "iopub.status.busy": "2023-05-11T07:10:07.184341Z",
          "iopub.execute_input": "2023-05-11T07:10:07.184805Z",
          "iopub.status.idle": "2023-05-11T07:10:07.337902Z",
          "shell.execute_reply.started": "2023-05-11T07:10:07.184760Z",
          "shell.execute_reply": "2023-05-11T07:10:07.336506Z"
        },
        "trusted": true,
        "colab": {
          "base_uri": "https://localhost:8080/"
        }
      },
      "execution_count": null,
      "outputs": [
        {
          "output_type": "stream",
          "name": "stdout",
          "text": [
            "Model: \"model\"\n",
            "_________________________________________________________________\n",
            " Layer (type)                Output Shape              Param #   \n",
            "=================================================================\n",
            " inputs_ann (InputLayer)     [(None, 178, 1)]          0         \n",
            "                                                                 \n",
            " flatten (Flatten)           (None, 178)               0         \n",
            "                                                                 \n",
            " dense (Dense)               (None, 32)                5728      \n",
            "                                                                 \n",
            " dense_1 (Dense)             (None, 16)                528       \n",
            "                                                                 \n",
            " dense_2 (Dense)             (None, 2)                 34        \n",
            "                                                                 \n",
            "=================================================================\n",
            "Total params: 6,290\n",
            "Trainable params: 6,290\n",
            "Non-trainable params: 0\n",
            "_________________________________________________________________\n",
            "None\n"
          ]
        }
      ]
    },
    {
      "cell_type": "code",
      "source": [],
      "metadata": {
        "id": "zln4pQOAVRxN"
      },
      "execution_count": null,
      "outputs": []
    },
    {
      "cell_type": "code",
      "source": [
        "# Train CNN network on epileptic vs healthy data\n",
        "# Save model at highest validation accuracy\n",
        "save_path = '/tmp/checkpoint_1'\n",
        "model_checkpoint_callback = keras.callbacks.ModelCheckpoint(\n",
        "    filepath=save_path,\n",
        "    save_weights_only=True,\n",
        "    monitor='val_accuracy',\n",
        "    mode='max',\n",
        "    save_best_only=True)\n",
        "\n",
        "history = model1.fit(data_train, label_train,epochs=100, batch_size=32, validation_data=(data_val,label_val), callbacks=[model_checkpoint_callback])"
      ],
      "metadata": {
        "id": "RCBd6Nk4Q22e",
        "outputId": "f802a5a9-385b-420d-8f3c-672ab2b62d49",
        "execution": {
          "iopub.status.busy": "2023-05-11T07:10:18.143252Z",
          "iopub.execute_input": "2023-05-11T07:10:18.143737Z",
          "iopub.status.idle": "2023-05-11T07:13:15.241829Z",
          "shell.execute_reply.started": "2023-05-11T07:10:18.143683Z",
          "shell.execute_reply": "2023-05-11T07:13:15.240665Z"
        },
        "trusted": true,
        "colab": {
          "base_uri": "https://localhost:8080/"
        }
      },
      "execution_count": null,
      "outputs": [
        {
          "output_type": "stream",
          "name": "stdout",
          "text": [
            "Epoch 1/100\n",
            "115/115 [==============================] - 7s 7ms/step - loss: 14.5470 - accuracy: 0.6519 - val_loss: 7.7601 - val_accuracy: 0.6848\n",
            "Epoch 2/100\n",
            "115/115 [==============================] - 0s 4ms/step - loss: 3.9488 - accuracy: 0.7470 - val_loss: 4.8116 - val_accuracy: 0.7087\n",
            "Epoch 3/100\n",
            "115/115 [==============================] - 0s 3ms/step - loss: 2.0887 - accuracy: 0.8016 - val_loss: 3.6890 - val_accuracy: 0.7674\n",
            "Epoch 4/100\n",
            "115/115 [==============================] - 0s 4ms/step - loss: 1.4217 - accuracy: 0.8201 - val_loss: 3.3650 - val_accuracy: 0.7804\n",
            "Epoch 5/100\n",
            "115/115 [==============================] - 0s 3ms/step - loss: 1.0609 - accuracy: 0.8397 - val_loss: 2.9371 - val_accuracy: 0.7739\n",
            "Epoch 6/100\n",
            "115/115 [==============================] - 0s 4ms/step - loss: 0.7454 - accuracy: 0.8587 - val_loss: 2.6201 - val_accuracy: 0.7891\n",
            "Epoch 7/100\n",
            "115/115 [==============================] - 0s 4ms/step - loss: 0.5888 - accuracy: 0.8622 - val_loss: 2.3339 - val_accuracy: 0.8043\n",
            "Epoch 8/100\n",
            "115/115 [==============================] - 0s 3ms/step - loss: 0.4555 - accuracy: 0.8829 - val_loss: 2.2332 - val_accuracy: 0.8043\n",
            "Epoch 9/100\n",
            "115/115 [==============================] - 0s 4ms/step - loss: 0.3977 - accuracy: 0.8927 - val_loss: 1.7674 - val_accuracy: 0.8196\n",
            "Epoch 10/100\n",
            "115/115 [==============================] - 0s 4ms/step - loss: 0.3224 - accuracy: 0.9030 - val_loss: 1.5948 - val_accuracy: 0.8239\n",
            "Epoch 11/100\n",
            "115/115 [==============================] - 0s 4ms/step - loss: 0.2794 - accuracy: 0.9149 - val_loss: 1.6931 - val_accuracy: 0.8087\n",
            "Epoch 12/100\n",
            "115/115 [==============================] - 0s 4ms/step - loss: 0.2702 - accuracy: 0.9185 - val_loss: 1.4141 - val_accuracy: 0.8326\n",
            "Epoch 13/100\n",
            "115/115 [==============================] - 0s 3ms/step - loss: 0.1918 - accuracy: 0.9383 - val_loss: 1.4939 - val_accuracy: 0.8261\n",
            "Epoch 14/100\n",
            "115/115 [==============================] - 0s 4ms/step - loss: 0.1685 - accuracy: 0.9378 - val_loss: 1.4488 - val_accuracy: 0.8413\n",
            "Epoch 15/100\n",
            "115/115 [==============================] - 0s 4ms/step - loss: 0.1320 - accuracy: 0.9505 - val_loss: 1.3713 - val_accuracy: 0.8500\n",
            "Epoch 16/100\n",
            "115/115 [==============================] - 0s 4ms/step - loss: 0.1164 - accuracy: 0.9630 - val_loss: 1.3439 - val_accuracy: 0.8522\n",
            "Epoch 17/100\n",
            "115/115 [==============================] - 0s 4ms/step - loss: 0.1131 - accuracy: 0.9598 - val_loss: 1.2336 - val_accuracy: 0.8457\n",
            "Epoch 18/100\n",
            "115/115 [==============================] - 0s 3ms/step - loss: 0.1054 - accuracy: 0.9674 - val_loss: 1.2569 - val_accuracy: 0.8522\n",
            "Epoch 19/100\n",
            "115/115 [==============================] - 0s 3ms/step - loss: 0.0860 - accuracy: 0.9750 - val_loss: 1.4049 - val_accuracy: 0.8435\n",
            "Epoch 20/100\n",
            "115/115 [==============================] - 0s 3ms/step - loss: 0.0873 - accuracy: 0.9755 - val_loss: 1.2653 - val_accuracy: 0.8522\n",
            "Epoch 21/100\n",
            "115/115 [==============================] - 0s 3ms/step - loss: 0.1064 - accuracy: 0.9660 - val_loss: 1.0712 - val_accuracy: 0.8565\n",
            "Epoch 22/100\n",
            "115/115 [==============================] - 0s 3ms/step - loss: 0.1278 - accuracy: 0.9617 - val_loss: 1.2663 - val_accuracy: 0.8500\n",
            "Epoch 23/100\n",
            "115/115 [==============================] - 0s 3ms/step - loss: 0.1010 - accuracy: 0.9688 - val_loss: 1.0955 - val_accuracy: 0.8522\n",
            "Epoch 24/100\n",
            "115/115 [==============================] - 0s 3ms/step - loss: 0.0860 - accuracy: 0.9734 - val_loss: 1.1185 - val_accuracy: 0.8478\n",
            "Epoch 25/100\n",
            "115/115 [==============================] - 0s 3ms/step - loss: 0.0927 - accuracy: 0.9736 - val_loss: 1.0339 - val_accuracy: 0.8478\n",
            "Epoch 26/100\n",
            "115/115 [==============================] - 0s 4ms/step - loss: 0.0631 - accuracy: 0.9861 - val_loss: 1.0602 - val_accuracy: 0.8609\n",
            "Epoch 27/100\n",
            "115/115 [==============================] - 0s 4ms/step - loss: 0.0897 - accuracy: 0.9777 - val_loss: 0.8732 - val_accuracy: 0.8717\n",
            "Epoch 28/100\n",
            "115/115 [==============================] - 0s 3ms/step - loss: 0.0891 - accuracy: 0.9745 - val_loss: 1.0177 - val_accuracy: 0.8696\n",
            "Epoch 29/100\n",
            "115/115 [==============================] - 0s 3ms/step - loss: 0.0686 - accuracy: 0.9821 - val_loss: 0.8692 - val_accuracy: 0.8652\n",
            "Epoch 30/100\n",
            "115/115 [==============================] - 0s 4ms/step - loss: 0.0666 - accuracy: 0.9845 - val_loss: 0.9457 - val_accuracy: 0.8674\n",
            "Epoch 31/100\n",
            "115/115 [==============================] - 0s 4ms/step - loss: 0.0528 - accuracy: 0.9889 - val_loss: 0.9747 - val_accuracy: 0.8783\n",
            "Epoch 32/100\n",
            "115/115 [==============================] - 0s 4ms/step - loss: 0.0702 - accuracy: 0.9834 - val_loss: 0.9686 - val_accuracy: 0.8696\n",
            "Epoch 33/100\n",
            "115/115 [==============================] - 0s 4ms/step - loss: 0.1020 - accuracy: 0.9785 - val_loss: 0.9296 - val_accuracy: 0.8696\n",
            "Epoch 34/100\n",
            "115/115 [==============================] - 0s 3ms/step - loss: 0.0802 - accuracy: 0.9755 - val_loss: 0.8302 - val_accuracy: 0.8739\n",
            "Epoch 35/100\n",
            "115/115 [==============================] - 0s 4ms/step - loss: 0.0726 - accuracy: 0.9826 - val_loss: 0.7928 - val_accuracy: 0.8804\n",
            "Epoch 36/100\n",
            "115/115 [==============================] - 0s 3ms/step - loss: 0.0553 - accuracy: 0.9859 - val_loss: 0.7934 - val_accuracy: 0.8739\n",
            "Epoch 37/100\n",
            "115/115 [==============================] - 0s 4ms/step - loss: 0.0602 - accuracy: 0.9861 - val_loss: 0.7219 - val_accuracy: 0.8913\n",
            "Epoch 38/100\n",
            "115/115 [==============================] - 0s 4ms/step - loss: 0.0461 - accuracy: 0.9916 - val_loss: 0.6315 - val_accuracy: 0.9000\n",
            "Epoch 39/100\n",
            "115/115 [==============================] - 0s 4ms/step - loss: 0.0478 - accuracy: 0.9872 - val_loss: 0.6769 - val_accuracy: 0.8957\n",
            "Epoch 40/100\n",
            "115/115 [==============================] - 0s 4ms/step - loss: 0.0596 - accuracy: 0.9853 - val_loss: 0.5635 - val_accuracy: 0.9109\n",
            "Epoch 41/100\n",
            "115/115 [==============================] - 0s 4ms/step - loss: 0.0337 - accuracy: 0.9943 - val_loss: 0.6806 - val_accuracy: 0.9022\n",
            "Epoch 42/100\n",
            "115/115 [==============================] - 0s 4ms/step - loss: 0.0302 - accuracy: 0.9951 - val_loss: 0.6462 - val_accuracy: 0.9043\n",
            "Epoch 43/100\n",
            "115/115 [==============================] - 0s 3ms/step - loss: 0.0245 - accuracy: 0.9970 - val_loss: 0.6296 - val_accuracy: 0.9022\n",
            "Epoch 44/100\n",
            "115/115 [==============================] - 0s 3ms/step - loss: 0.0215 - accuracy: 0.9984 - val_loss: 0.6662 - val_accuracy: 0.9022\n",
            "Epoch 45/100\n",
            "115/115 [==============================] - 0s 3ms/step - loss: 0.0195 - accuracy: 0.9978 - val_loss: 0.7907 - val_accuracy: 0.8935\n",
            "Epoch 46/100\n",
            "115/115 [==============================] - 0s 4ms/step - loss: 0.0183 - accuracy: 0.9978 - val_loss: 0.7728 - val_accuracy: 0.8957\n",
            "Epoch 47/100\n",
            "115/115 [==============================] - 0s 3ms/step - loss: 0.0163 - accuracy: 0.9986 - val_loss: 0.7676 - val_accuracy: 0.8978\n",
            "Epoch 48/100\n",
            "115/115 [==============================] - 0s 4ms/step - loss: 0.0152 - accuracy: 0.9986 - val_loss: 0.8463 - val_accuracy: 0.9000\n",
            "Epoch 49/100\n",
            "115/115 [==============================] - 0s 4ms/step - loss: 0.0165 - accuracy: 0.9981 - val_loss: 0.7817 - val_accuracy: 0.9022\n",
            "Epoch 50/100\n",
            "115/115 [==============================] - 0s 4ms/step - loss: 0.0977 - accuracy: 0.9810 - val_loss: 0.6217 - val_accuracy: 0.8870\n",
            "Epoch 51/100\n",
            "115/115 [==============================] - 0s 4ms/step - loss: 0.1414 - accuracy: 0.9601 - val_loss: 0.3053 - val_accuracy: 0.9304\n",
            "Epoch 52/100\n",
            "115/115 [==============================] - 0s 3ms/step - loss: 0.0707 - accuracy: 0.9804 - val_loss: 0.3076 - val_accuracy: 0.9283\n",
            "Epoch 53/100\n",
            "115/115 [==============================] - 0s 3ms/step - loss: 0.0597 - accuracy: 0.9848 - val_loss: 0.2351 - val_accuracy: 0.9370\n",
            "Epoch 54/100\n",
            "115/115 [==============================] - 0s 3ms/step - loss: 0.0350 - accuracy: 0.9927 - val_loss: 0.2320 - val_accuracy: 0.9500\n",
            "Epoch 55/100\n",
            "115/115 [==============================] - 0s 3ms/step - loss: 0.0255 - accuracy: 0.9962 - val_loss: 0.2340 - val_accuracy: 0.9457\n",
            "Epoch 56/100\n",
            "115/115 [==============================] - 0s 3ms/step - loss: 0.0227 - accuracy: 0.9967 - val_loss: 0.2792 - val_accuracy: 0.9391\n",
            "Epoch 57/100\n",
            "115/115 [==============================] - 0s 3ms/step - loss: 0.0199 - accuracy: 0.9986 - val_loss: 0.2634 - val_accuracy: 0.9370\n",
            "Epoch 58/100\n",
            "115/115 [==============================] - 0s 3ms/step - loss: 0.0154 - accuracy: 0.9984 - val_loss: 0.2952 - val_accuracy: 0.9304\n",
            "Epoch 59/100\n",
            "115/115 [==============================] - 0s 4ms/step - loss: 0.0131 - accuracy: 0.9995 - val_loss: 0.3525 - val_accuracy: 0.9283\n",
            "Epoch 60/100\n",
            "115/115 [==============================] - 0s 3ms/step - loss: 0.0126 - accuracy: 0.9997 - val_loss: 0.3198 - val_accuracy: 0.9283\n",
            "Epoch 61/100\n",
            "115/115 [==============================] - 0s 4ms/step - loss: 0.0116 - accuracy: 0.9989 - val_loss: 0.3688 - val_accuracy: 0.9283\n",
            "Epoch 62/100\n",
            "115/115 [==============================] - 0s 4ms/step - loss: 0.0108 - accuracy: 0.9997 - val_loss: 0.3583 - val_accuracy: 0.9283\n",
            "Epoch 63/100\n",
            "115/115 [==============================] - 0s 3ms/step - loss: 0.0099 - accuracy: 0.9997 - val_loss: 0.4179 - val_accuracy: 0.9239\n",
            "Epoch 64/100\n",
            "115/115 [==============================] - 0s 3ms/step - loss: 0.0109 - accuracy: 0.9997 - val_loss: 0.4343 - val_accuracy: 0.9196\n",
            "Epoch 65/100\n",
            "115/115 [==============================] - 0s 3ms/step - loss: 0.0096 - accuracy: 0.9989 - val_loss: 0.3809 - val_accuracy: 0.9217\n",
            "Epoch 66/100\n",
            "115/115 [==============================] - 0s 3ms/step - loss: 0.0715 - accuracy: 0.9799 - val_loss: 0.2225 - val_accuracy: 0.9304\n",
            "Epoch 67/100\n",
            "115/115 [==============================] - 0s 3ms/step - loss: 0.0849 - accuracy: 0.9736 - val_loss: 0.2641 - val_accuracy: 0.9413\n",
            "Epoch 68/100\n",
            "115/115 [==============================] - 0s 3ms/step - loss: 0.0459 - accuracy: 0.9880 - val_loss: 0.2140 - val_accuracy: 0.9522\n",
            "Epoch 69/100\n",
            "115/115 [==============================] - 0s 3ms/step - loss: 0.0248 - accuracy: 0.9951 - val_loss: 0.2571 - val_accuracy: 0.9283\n",
            "Epoch 70/100\n",
            "115/115 [==============================] - 0s 3ms/step - loss: 0.0148 - accuracy: 0.9981 - val_loss: 0.2554 - val_accuracy: 0.9435\n",
            "Epoch 71/100\n",
            "115/115 [==============================] - 0s 3ms/step - loss: 0.0117 - accuracy: 0.9989 - val_loss: 0.2695 - val_accuracy: 0.9435\n",
            "Epoch 72/100\n",
            "115/115 [==============================] - 0s 3ms/step - loss: 0.0091 - accuracy: 1.0000 - val_loss: 0.2955 - val_accuracy: 0.9348\n",
            "Epoch 73/100\n",
            "115/115 [==============================] - 0s 3ms/step - loss: 0.0125 - accuracy: 0.9976 - val_loss: 0.2947 - val_accuracy: 0.9326\n",
            "Epoch 74/100\n",
            "115/115 [==============================] - 0s 3ms/step - loss: 0.0183 - accuracy: 0.9959 - val_loss: 0.4244 - val_accuracy: 0.9217\n",
            "Epoch 75/100\n",
            "115/115 [==============================] - 0s 3ms/step - loss: 0.0288 - accuracy: 0.9924 - val_loss: 0.4279 - val_accuracy: 0.9326\n",
            "Epoch 76/100\n",
            "115/115 [==============================] - 0s 3ms/step - loss: 0.0165 - accuracy: 0.9957 - val_loss: 0.3315 - val_accuracy: 0.9370\n",
            "Epoch 77/100\n",
            "115/115 [==============================] - 0s 3ms/step - loss: 0.0302 - accuracy: 0.9924 - val_loss: 0.2680 - val_accuracy: 0.9413\n",
            "Epoch 78/100\n",
            "115/115 [==============================] - 0s 4ms/step - loss: 0.0506 - accuracy: 0.9861 - val_loss: 0.1820 - val_accuracy: 0.9565\n",
            "Epoch 79/100\n",
            "115/115 [==============================] - 0s 4ms/step - loss: 0.0267 - accuracy: 0.9932 - val_loss: 0.2261 - val_accuracy: 0.9435\n",
            "Epoch 80/100\n",
            "115/115 [==============================] - 0s 3ms/step - loss: 0.0198 - accuracy: 0.9948 - val_loss: 0.1828 - val_accuracy: 0.9413\n",
            "Epoch 81/100\n",
            "115/115 [==============================] - 0s 3ms/step - loss: 0.0107 - accuracy: 0.9989 - val_loss: 0.1987 - val_accuracy: 0.9457\n",
            "Epoch 82/100\n",
            "115/115 [==============================] - 0s 3ms/step - loss: 0.0069 - accuracy: 0.9997 - val_loss: 0.1800 - val_accuracy: 0.9457\n",
            "Epoch 83/100\n",
            "115/115 [==============================] - 0s 3ms/step - loss: 0.0055 - accuracy: 1.0000 - val_loss: 0.1964 - val_accuracy: 0.9391\n",
            "Epoch 84/100\n",
            "115/115 [==============================] - 0s 3ms/step - loss: 0.0046 - accuracy: 1.0000 - val_loss: 0.2440 - val_accuracy: 0.9304\n",
            "Epoch 85/100\n",
            "115/115 [==============================] - 0s 3ms/step - loss: 0.0037 - accuracy: 1.0000 - val_loss: 0.2772 - val_accuracy: 0.9348\n",
            "Epoch 86/100\n",
            "115/115 [==============================] - 0s 3ms/step - loss: 0.0032 - accuracy: 1.0000 - val_loss: 0.2885 - val_accuracy: 0.9348\n",
            "Epoch 87/100\n",
            "115/115 [==============================] - 0s 3ms/step - loss: 0.0029 - accuracy: 1.0000 - val_loss: 0.2863 - val_accuracy: 0.9326\n",
            "Epoch 88/100\n",
            "115/115 [==============================] - 0s 3ms/step - loss: 0.0027 - accuracy: 1.0000 - val_loss: 0.3035 - val_accuracy: 0.9283\n",
            "Epoch 89/100\n",
            "115/115 [==============================] - 0s 3ms/step - loss: 0.0024 - accuracy: 1.0000 - val_loss: 0.3238 - val_accuracy: 0.9304\n",
            "Epoch 90/100\n",
            "115/115 [==============================] - 0s 3ms/step - loss: 0.0022 - accuracy: 1.0000 - val_loss: 0.3382 - val_accuracy: 0.9239\n",
            "Epoch 91/100\n",
            "115/115 [==============================] - 0s 3ms/step - loss: 0.0021 - accuracy: 1.0000 - val_loss: 0.3674 - val_accuracy: 0.9283\n",
            "Epoch 92/100\n",
            "115/115 [==============================] - 0s 3ms/step - loss: 0.0019 - accuracy: 1.0000 - val_loss: 0.3557 - val_accuracy: 0.9261\n",
            "Epoch 93/100\n",
            "115/115 [==============================] - 0s 3ms/step - loss: 0.0017 - accuracy: 1.0000 - val_loss: 0.3883 - val_accuracy: 0.9239\n",
            "Epoch 94/100\n",
            "115/115 [==============================] - 0s 3ms/step - loss: 0.0017 - accuracy: 1.0000 - val_loss: 0.3969 - val_accuracy: 0.9239\n",
            "Epoch 95/100\n",
            "115/115 [==============================] - 0s 3ms/step - loss: 0.0015 - accuracy: 1.0000 - val_loss: 0.4130 - val_accuracy: 0.9217\n",
            "Epoch 96/100\n",
            "115/115 [==============================] - 0s 3ms/step - loss: 0.0014 - accuracy: 1.0000 - val_loss: 0.4476 - val_accuracy: 0.9239\n",
            "Epoch 97/100\n",
            "115/115 [==============================] - 0s 3ms/step - loss: 0.0014 - accuracy: 1.0000 - val_loss: 0.4310 - val_accuracy: 0.9261\n",
            "Epoch 98/100\n",
            "115/115 [==============================] - 0s 3ms/step - loss: 0.0017 - accuracy: 1.0000 - val_loss: 0.4290 - val_accuracy: 0.9152\n",
            "Epoch 99/100\n",
            "115/115 [==============================] - 0s 3ms/step - loss: 0.0013 - accuracy: 1.0000 - val_loss: 0.4782 - val_accuracy: 0.9174\n",
            "Epoch 100/100\n",
            "115/115 [==============================] - 0s 3ms/step - loss: 0.0011 - accuracy: 1.0000 - val_loss: 0.5133 - val_accuracy: 0.9130\n"
          ]
        }
      ]
    },
    {
      "cell_type": "code",
      "source": [
        "# Print validation accuracy and plot accuracy and loss\n",
        "evaluate_model(history,data_test,label_test,model1)\n",
        "y_pred=model1.predict(data_test)"
      ],
      "metadata": {
        "id": "tbeP9mFGW--n",
        "outputId": "ed320b7b-5616-4ada-974b-93203044e4f9",
        "execution": {
          "iopub.status.busy": "2023-05-11T07:13:53.862738Z",
          "iopub.execute_input": "2023-05-11T07:13:53.863132Z",
          "iopub.status.idle": "2023-05-11T07:13:54.685745Z",
          "shell.execute_reply.started": "2023-05-11T07:13:53.863091Z",
          "shell.execute_reply": "2023-05-11T07:13:54.684788Z"
        },
        "trusted": true,
        "colab": {
          "base_uri": "https://localhost:8080/",
          "height": 998
        }
      },
      "execution_count": null,
      "outputs": [
        {
          "output_type": "stream",
          "name": "stdout",
          "text": [
            "Accuracy: 91.09%\n",
            "<keras.callbacks.History object at 0x7f6e08128ac0>\n"
          ]
        },
        {
          "output_type": "display_data",
          "data": {
            "text/plain": [
              "<Figure size 640x480 with 1 Axes>"
            ],
            "image/png": "[encoded data removed]"
          },
          "metadata": {}
        },
        {
          "output_type": "display_data",
          "data": {
            "text/plain": [
              "<Figure size 640x480 with 1 Axes>"
            ],
            "image/png": "[encoded data removed]"
          },
          "metadata": {}
        },
        {
          "output_type": "stream",
          "name": "stdout",
          "text": [
            "15/15 [==============================] - 0s 2ms/step\n",
            "15/15 [==============================] - 0s 1ms/step\n"
          ]
        }
      ]
    },
    {
      "cell_type": "code",
      "source": [],
      "metadata": {
        "id": "DnMCAkPGRO4P"
      },
      "execution_count": null,
      "outputs": []
    },
    {
      "cell_type": "code",
      "source": [
        "scores = model1.evaluate((data_test),label_test, verbose=0)\n",
        "acc_ANN = scores[1]\n"
      ],
      "metadata": {
        "execution": {
          "iopub.status.busy": "2023-05-11T07:09:43.943681Z",
          "iopub.execute_input": "2023-05-11T07:09:43.944128Z",
          "iopub.status.idle": "2023-05-11T07:09:43.958973Z",
          "shell.execute_reply.started": "2023-05-11T07:09:43.944083Z",
          "shell.execute_reply": "2023-05-11T07:09:43.957793Z"
        },
        "trusted": true,
        "id": "O7xz1167G_S9"
      },
      "execution_count": null,
      "outputs": []
    },
    {
      "cell_type": "markdown",
      "source": [
        "# 2. Convolutional Neural Networks(CNN)\n",
        "![Imgur](https://i.imgur.com/HyPUqwF.png)\n",
        "Computers are great at solving algorithmic and math problems, but often the world can't easily be defined with a mathematical algorithm. Facial recognition and language processing are a couple of examples of problems that can't easily be quantified into an algorithm, however these tasks are trivial to humans. The key to Artificial Neural Networks is that their design enables them to process information in a similar way to our own biological brains, by drawing inspiration from how our own nervous system functions. This makes them useful tools for solving problems like facial recognition, which our biological brains can do easily."
      ],
      "metadata": {
        "_uuid": "724afa104f8fc061f379adb0ba408730e024abeb",
        "id": "s8jA7-yLXNKe"
      }
    },
    {
      "cell_type": "code",
      "source": [
        "# Define CNN network\n",
        "def network_CNN(X_train,y_train):\n",
        "    im_shape=(X_train.shape[1],1)\n",
        "    inputs_cnn=Input(shape=(im_shape), name='inputs_cnn')\n",
        "\n",
        "    conv1d_1 = layers.Conv1D(filters=32, kernel_size=6)(inputs_cnn)\n",
        "    batch_normalization = BatchNormalization()(conv1d_1)\n",
        "    max_pooling1d = layers.MaxPooling1D( 2, padding='same')(batch_normalization)\n",
        "\n",
        "    conv1d_2 = layers.Conv1D(filters=64, kernel_size=3)(max_pooling1d)\n",
        "    batch_normalization_1 = BatchNormalization()(conv1d_2)\n",
        "    max_pooling1d_1 = layers.MaxPooling1D(2, padding='same')(batch_normalization_1)\n",
        "\n",
        "    flatten = Flatten()(max_pooling1d_1)\n",
        "\n",
        "    dense = Dense(32)(flatten)\n",
        "    dense_1 = Dense(16)(dense)\n",
        "\n",
        "    main_output = Dense(2)(dense_1)\n",
        "\n",
        "    model1 = Model(inputs= inputs_cnn, outputs=main_output)\n",
        "    model1.compile(optimizer='adam', loss='sparse_categorical_crossentropy',metrics = ['accuracy'])\n",
        "\n",
        "    return(model1)"
      ],
      "metadata": {
        "execution": {
          "iopub.status.busy": "2023-05-11T07:09:57.145267Z",
          "iopub.execute_input": "2023-05-11T07:09:57.145726Z",
          "iopub.status.idle": "2023-05-11T07:09:57.158424Z",
          "shell.execute_reply.started": "2023-05-11T07:09:57.145680Z",
          "shell.execute_reply": "2023-05-11T07:09:57.156821Z"
        },
        "trusted": true,
        "id": "Gz0P6s_oZqVy"
      },
      "execution_count": null,
      "outputs": []
    },
    {
      "cell_type": "code",
      "source": [
        "# Define CNN model to be trained on epileptic vs healthy data\n",
        "model2 = network_CNN(data_train,label_train)\n",
        "print(model2.summary())"
      ],
      "metadata": {
        "outputId": "2bedd05b-1e3b-4ae7-9172-75ed88737596",
        "execution": {
          "iopub.status.busy": "2023-05-11T07:10:07.184341Z",
          "iopub.execute_input": "2023-05-11T07:10:07.184805Z",
          "iopub.status.idle": "2023-05-11T07:10:07.337902Z",
          "shell.execute_reply.started": "2023-05-11T07:10:07.184760Z",
          "shell.execute_reply": "2023-05-11T07:10:07.336506Z"
        },
        "trusted": true,
        "colab": {
          "base_uri": "https://localhost:8080/"
        },
        "id": "ZWGp-6V_bOXJ"
      },
      "execution_count": null,
      "outputs": [
        {
          "output_type": "stream",
          "name": "stdout",
          "text": [
            "Model: \"model_1\"\n",
            "_________________________________________________________________\n",
            " Layer (type)                Output Shape              Param #   \n",
            "=================================================================\n",
            " inputs_cnn (InputLayer)     [(None, 178, 1)]          0         \n",
            "                                                                 \n",
            " conv1d (Conv1D)             (None, 173, 32)           224       \n",
            "                                                                 \n",
            " batch_normalization (BatchN  (None, 173, 32)          128       \n",
            " ormalization)                                                   \n",
            "                                                                 \n",
            " max_pooling1d (MaxPooling1D  (None, 87, 32)           0         \n",
            " )                                                               \n",
            "                                                                 \n",
            " conv1d_1 (Conv1D)           (None, 85, 64)            6208      \n",
            "                                                                 \n",
            " batch_normalization_1 (Batc  (None, 85, 64)           256       \n",
            " hNormalization)                                                 \n",
            "                                                                 \n",
            " max_pooling1d_1 (MaxPooling  (None, 43, 64)           0         \n",
            " 1D)                                                             \n",
            "                                                                 \n",
            " flatten_1 (Flatten)         (None, 2752)              0         \n",
            "                                                                 \n",
            " dense_3 (Dense)             (None, 32)                88096     \n",
            "                                                                 \n",
            " dense_4 (Dense)             (None, 16)                528       \n",
            "                                                                 \n",
            " dense_5 (Dense)             (None, 2)                 34        \n",
            "                                                                 \n",
            "=================================================================\n",
            "Total params: 95,474\n",
            "Trainable params: 95,282\n",
            "Non-trainable params: 192\n",
            "_________________________________________________________________\n",
            "None\n"
          ]
        }
      ]
    },
    {
      "cell_type": "code",
      "source": [
        "# Train CNN network on epileptic vs healthy data\n",
        "# Save model at highest validation accuracy\n",
        "save_path = '/tmp/checkpoint_2'\n",
        "model_checkpoint_callback = keras.callbacks.ModelCheckpoint(\n",
        "    filepath=save_path,\n",
        "    save_weights_only=True,\n",
        "    monitor='val_accuracy',\n",
        "    mode='max',\n",
        "    save_best_only=True)\n",
        "\n",
        "history2 = model2.fit(data_train, label_train,epochs=100, batch_size=32, validation_data=(data_val,label_val), callbacks=[model_checkpoint_callback])"
      ],
      "metadata": {
        "outputId": "df88a1ce-e9b3-476f-fd9c-57544a489e5b",
        "execution": {
          "iopub.status.busy": "2023-05-11T07:10:18.143252Z",
          "iopub.execute_input": "2023-05-11T07:10:18.143737Z",
          "iopub.status.idle": "2023-05-11T07:13:15.241829Z",
          "shell.execute_reply.started": "2023-05-11T07:10:18.143683Z",
          "shell.execute_reply": "2023-05-11T07:13:15.240665Z"
        },
        "trusted": true,
        "colab": {
          "base_uri": "https://localhost:8080/"
        },
        "id": "9GHefQmPbeYj"
      },
      "execution_count": null,
      "outputs": [
        {
          "output_type": "stream",
          "name": "stdout",
          "text": [
            "Epoch 1/100\n",
            "115/115 [==============================] - 9s 9ms/step - loss: 2.0650 - accuracy: 0.6440 - val_loss: 1.9555 - val_accuracy: 0.6109\n",
            "Epoch 2/100\n",
            "115/115 [==============================] - 1s 7ms/step - loss: 1.1482 - accuracy: 0.7008 - val_loss: 0.9792 - val_accuracy: 0.6957\n",
            "Epoch 3/100\n",
            "115/115 [==============================] - 1s 7ms/step - loss: 0.6691 - accuracy: 0.7791 - val_loss: 0.5741 - val_accuracy: 0.8130\n",
            "Epoch 4/100\n",
            "115/115 [==============================] - 1s 7ms/step - loss: 0.5863 - accuracy: 0.8236 - val_loss: 0.5604 - val_accuracy: 0.8674\n",
            "Epoch 5/100\n",
            "115/115 [==============================] - 1s 7ms/step - loss: 0.5877 - accuracy: 0.8438 - val_loss: 0.5670 - val_accuracy: 0.8717\n",
            "Epoch 6/100\n",
            "115/115 [==============================] - 1s 6ms/step - loss: 0.5682 - accuracy: 0.8595 - val_loss: 0.5700 - val_accuracy: 0.8696\n",
            "Epoch 7/100\n",
            "115/115 [==============================] - 1s 6ms/step - loss: 0.5611 - accuracy: 0.8614 - val_loss: 0.5715 - val_accuracy: 0.8717\n",
            "Epoch 8/100\n",
            "115/115 [==============================] - 1s 6ms/step - loss: 0.5563 - accuracy: 0.8543 - val_loss: 0.5745 - val_accuracy: 0.8652\n",
            "Epoch 9/100\n",
            "115/115 [==============================] - 1s 7ms/step - loss: 0.5623 - accuracy: 0.8611 - val_loss: 0.5485 - val_accuracy: 0.8761\n",
            "Epoch 10/100\n",
            "115/115 [==============================] - 1s 6ms/step - loss: 0.5581 - accuracy: 0.8712 - val_loss: 0.5515 - val_accuracy: 0.8783\n",
            "Epoch 11/100\n",
            "115/115 [==============================] - 1s 6ms/step - loss: 0.5573 - accuracy: 0.8720 - val_loss: 0.5515 - val_accuracy: 0.8783\n",
            "Epoch 12/100\n",
            "115/115 [==============================] - 1s 6ms/step - loss: 0.5576 - accuracy: 0.8736 - val_loss: 0.5515 - val_accuracy: 0.8783\n",
            "Epoch 13/100\n",
            "115/115 [==============================] - 1s 7ms/step - loss: 0.5581 - accuracy: 0.8701 - val_loss: 0.5491 - val_accuracy: 0.8848\n",
            "Epoch 14/100\n",
            "115/115 [==============================] - 1s 6ms/step - loss: 0.5529 - accuracy: 0.8777 - val_loss: 0.5485 - val_accuracy: 0.8848\n",
            "Epoch 15/100\n",
            "115/115 [==============================] - 1s 7ms/step - loss: 0.5530 - accuracy: 0.8742 - val_loss: 0.5485 - val_accuracy: 0.8870\n",
            "Epoch 16/100\n",
            "115/115 [==============================] - 1s 6ms/step - loss: 0.5788 - accuracy: 0.8696 - val_loss: 0.5997 - val_accuracy: 0.8717\n",
            "Epoch 17/100\n",
            "115/115 [==============================] - 1s 6ms/step - loss: 0.6027 - accuracy: 0.8644 - val_loss: 0.6133 - val_accuracy: 0.8761\n",
            "Epoch 18/100\n",
            "115/115 [==============================] - 1s 6ms/step - loss: 0.7306 - accuracy: 0.7546 - val_loss: 0.7163 - val_accuracy: 0.6848\n",
            "Epoch 19/100\n",
            "115/115 [==============================] - 1s 6ms/step - loss: 0.7499 - accuracy: 0.7076 - val_loss: 1.3139 - val_accuracy: 0.6435\n",
            "Epoch 20/100\n",
            "115/115 [==============================] - 1s 6ms/step - loss: 1.1709 - accuracy: 0.6921 - val_loss: 0.9823 - val_accuracy: 0.6783\n",
            "Epoch 21/100\n",
            "115/115 [==============================] - 1s 6ms/step - loss: 0.7637 - accuracy: 0.7486 - val_loss: 0.8044 - val_accuracy: 0.7457\n",
            "Epoch 22/100\n",
            "115/115 [==============================] - 1s 6ms/step - loss: 0.6931 - accuracy: 0.7837 - val_loss: 0.6805 - val_accuracy: 0.7913\n",
            "Epoch 23/100\n",
            "115/115 [==============================] - 1s 6ms/step - loss: 0.6633 - accuracy: 0.8014 - val_loss: 0.6544 - val_accuracy: 0.8022\n",
            "Epoch 24/100\n",
            "115/115 [==============================] - 1s 6ms/step - loss: 0.6505 - accuracy: 0.8144 - val_loss: 0.6294 - val_accuracy: 0.8239\n",
            "Epoch 25/100\n",
            "115/115 [==============================] - 1s 6ms/step - loss: 0.6388 - accuracy: 0.8228 - val_loss: 0.6374 - val_accuracy: 0.8239\n",
            "Epoch 26/100\n",
            "115/115 [==============================] - 1s 6ms/step - loss: 0.6336 - accuracy: 0.8253 - val_loss: 0.6419 - val_accuracy: 0.8283\n",
            "Epoch 27/100\n",
            "115/115 [==============================] - 1s 6ms/step - loss: 0.6502 - accuracy: 0.8092 - val_loss: 0.6600 - val_accuracy: 0.8109\n",
            "Epoch 28/100\n",
            "115/115 [==============================] - 1s 6ms/step - loss: 0.6635 - accuracy: 0.7997 - val_loss: 0.6585 - val_accuracy: 0.8174\n",
            "Epoch 29/100\n",
            "115/115 [==============================] - 1s 6ms/step - loss: 0.6585 - accuracy: 0.8052 - val_loss: 0.6570 - val_accuracy: 0.8174\n",
            "Epoch 30/100\n",
            "115/115 [==============================] - 1s 6ms/step - loss: 0.6517 - accuracy: 0.8054 - val_loss: 0.6600 - val_accuracy: 0.8152\n",
            "Epoch 31/100\n",
            "115/115 [==============================] - 1s 6ms/step - loss: 0.6624 - accuracy: 0.8049 - val_loss: 0.6630 - val_accuracy: 0.8196\n",
            "Epoch 32/100\n",
            "115/115 [==============================] - 1s 6ms/step - loss: 0.6634 - accuracy: 0.8128 - val_loss: 0.6660 - val_accuracy: 0.8217\n",
            "Epoch 33/100\n",
            "115/115 [==============================] - 1s 6ms/step - loss: 0.6620 - accuracy: 0.8084 - val_loss: 0.6660 - val_accuracy: 0.8217\n",
            "Epoch 34/100\n",
            "115/115 [==============================] - 1s 6ms/step - loss: 0.6609 - accuracy: 0.8071 - val_loss: 0.6660 - val_accuracy: 0.8217\n",
            "Epoch 35/100\n",
            "115/115 [==============================] - 1s 6ms/step - loss: 0.6620 - accuracy: 0.8114 - val_loss: 0.6660 - val_accuracy: 0.8196\n",
            "Epoch 36/100\n",
            "115/115 [==============================] - 1s 6ms/step - loss: 0.6619 - accuracy: 0.8011 - val_loss: 0.6660 - val_accuracy: 0.8196\n",
            "Epoch 37/100\n",
            "115/115 [==============================] - 1s 6ms/step - loss: 0.6621 - accuracy: 0.8060 - val_loss: 0.6645 - val_accuracy: 0.8217\n",
            "Epoch 38/100\n",
            "115/115 [==============================] - 1s 6ms/step - loss: 0.6617 - accuracy: 0.8065 - val_loss: 0.6645 - val_accuracy: 0.8196\n",
            "Epoch 39/100\n",
            "115/115 [==============================] - 1s 6ms/step - loss: 0.6655 - accuracy: 0.8046 - val_loss: 0.6645 - val_accuracy: 0.8217\n",
            "Epoch 40/100\n",
            "115/115 [==============================] - 1s 6ms/step - loss: 0.6645 - accuracy: 0.8149 - val_loss: 0.6645 - val_accuracy: 0.8196\n",
            "Epoch 41/100\n",
            "115/115 [==============================] - 1s 6ms/step - loss: 0.6634 - accuracy: 0.8046 - val_loss: 0.6645 - val_accuracy: 0.8217\n",
            "Epoch 42/100\n",
            "115/115 [==============================] - 1s 6ms/step - loss: 0.6641 - accuracy: 0.8155 - val_loss: 0.6645 - val_accuracy: 0.8217\n",
            "Epoch 43/100\n",
            "115/115 [==============================] - 1s 6ms/step - loss: 0.6643 - accuracy: 0.8038 - val_loss: 0.6645 - val_accuracy: 0.8217\n",
            "Epoch 44/100\n",
            "115/115 [==============================] - 1s 6ms/step - loss: 0.6662 - accuracy: 0.8111 - val_loss: 0.6645 - val_accuracy: 0.8196\n",
            "Epoch 45/100\n",
            "115/115 [==============================] - 1s 6ms/step - loss: 0.6634 - accuracy: 0.8114 - val_loss: 0.6645 - val_accuracy: 0.8196\n",
            "Epoch 46/100\n",
            "115/115 [==============================] - 1s 6ms/step - loss: 0.6640 - accuracy: 0.8082 - val_loss: 0.6645 - val_accuracy: 0.8196\n",
            "Epoch 47/100\n",
            "115/115 [==============================] - 1s 6ms/step - loss: 0.6643 - accuracy: 0.8141 - val_loss: 0.6660 - val_accuracy: 0.8217\n",
            "Epoch 48/100\n",
            "115/115 [==============================] - 1s 6ms/step - loss: 0.6638 - accuracy: 0.8122 - val_loss: 0.6660 - val_accuracy: 0.8217\n",
            "Epoch 49/100\n",
            "115/115 [==============================] - 1s 6ms/step - loss: 0.6660 - accuracy: 0.8163 - val_loss: 0.6690 - val_accuracy: 0.8196\n",
            "Epoch 50/100\n",
            "115/115 [==============================] - 1s 6ms/step - loss: 0.6658 - accuracy: 0.8125 - val_loss: 0.6690 - val_accuracy: 0.8196\n",
            "Epoch 51/100\n",
            "115/115 [==============================] - 1s 6ms/step - loss: 0.6645 - accuracy: 0.8087 - val_loss: 0.6690 - val_accuracy: 0.8196\n",
            "Epoch 52/100\n",
            "115/115 [==============================] - 1s 6ms/step - loss: 0.6682 - accuracy: 0.8133 - val_loss: 0.6705 - val_accuracy: 0.8217\n",
            "Epoch 53/100\n",
            "115/115 [==============================] - 1s 5ms/step - loss: 0.6694 - accuracy: 0.8098 - val_loss: 0.6705 - val_accuracy: 0.8217\n",
            "Epoch 54/100\n",
            "115/115 [==============================] - 1s 5ms/step - loss: 0.6700 - accuracy: 0.8122 - val_loss: 0.6705 - val_accuracy: 0.8217\n",
            "Epoch 55/100\n",
            "115/115 [==============================] - 1s 5ms/step - loss: 0.6690 - accuracy: 0.8136 - val_loss: 0.6705 - val_accuracy: 0.8239\n",
            "Epoch 56/100\n",
            "115/115 [==============================] - 1s 5ms/step - loss: 0.6690 - accuracy: 0.8149 - val_loss: 0.6705 - val_accuracy: 0.8217\n",
            "Epoch 57/100\n",
            "115/115 [==============================] - 1s 5ms/step - loss: 0.6689 - accuracy: 0.8163 - val_loss: 0.6781 - val_accuracy: 0.8239\n",
            "Epoch 58/100\n",
            "115/115 [==============================] - 1s 5ms/step - loss: 0.6724 - accuracy: 0.8111 - val_loss: 0.6796 - val_accuracy: 0.8217\n",
            "Epoch 59/100\n",
            "115/115 [==============================] - 1s 5ms/step - loss: 0.6722 - accuracy: 0.8106 - val_loss: 0.6796 - val_accuracy: 0.8217\n",
            "Epoch 60/100\n",
            "115/115 [==============================] - 1s 5ms/step - loss: 0.6730 - accuracy: 0.8147 - val_loss: 0.6796 - val_accuracy: 0.8239\n",
            "Epoch 61/100\n",
            "115/115 [==============================] - 1s 5ms/step - loss: 0.6724 - accuracy: 0.8122 - val_loss: 0.6796 - val_accuracy: 0.8239\n",
            "Epoch 62/100\n",
            "115/115 [==============================] - 1s 5ms/step - loss: 0.6732 - accuracy: 0.8155 - val_loss: 0.6796 - val_accuracy: 0.8239\n",
            "Epoch 63/100\n",
            "115/115 [==============================] - 1s 5ms/step - loss: 0.6726 - accuracy: 0.8109 - val_loss: 0.6796 - val_accuracy: 0.8239\n",
            "Epoch 64/100\n",
            "115/115 [==============================] - 1s 4ms/step - loss: 0.6730 - accuracy: 0.8166 - val_loss: 0.6796 - val_accuracy: 0.8239\n",
            "Epoch 65/100\n",
            "115/115 [==============================] - 1s 5ms/step - loss: 0.6724 - accuracy: 0.8139 - val_loss: 0.6796 - val_accuracy: 0.8239\n",
            "Epoch 66/100\n",
            "115/115 [==============================] - 1s 5ms/step - loss: 0.6717 - accuracy: 0.8122 - val_loss: 0.6796 - val_accuracy: 0.8239\n",
            "Epoch 67/100\n",
            "115/115 [==============================] - 1s 6ms/step - loss: 0.6721 - accuracy: 0.8071 - val_loss: 0.6796 - val_accuracy: 0.8217\n",
            "Epoch 68/100\n",
            "115/115 [==============================] - 1s 6ms/step - loss: 0.6729 - accuracy: 0.8106 - val_loss: 0.6781 - val_accuracy: 0.8261\n",
            "Epoch 69/100\n",
            "115/115 [==============================] - 1s 6ms/step - loss: 0.6730 - accuracy: 0.8117 - val_loss: 0.6766 - val_accuracy: 0.8283\n",
            "Epoch 70/100\n",
            "115/115 [==============================] - 1s 6ms/step - loss: 0.6745 - accuracy: 0.8128 - val_loss: 0.6766 - val_accuracy: 0.8304\n",
            "Epoch 71/100\n",
            "115/115 [==============================] - 1s 6ms/step - loss: 0.6730 - accuracy: 0.8117 - val_loss: 0.6766 - val_accuracy: 0.8304\n",
            "Epoch 72/100\n",
            "115/115 [==============================] - 1s 6ms/step - loss: 0.6728 - accuracy: 0.8103 - val_loss: 0.6766 - val_accuracy: 0.8283\n",
            "Epoch 73/100\n",
            "115/115 [==============================] - 1s 6ms/step - loss: 0.6743 - accuracy: 0.8144 - val_loss: 0.6766 - val_accuracy: 0.8283\n",
            "Epoch 74/100\n",
            "115/115 [==============================] - 1s 6ms/step - loss: 0.6739 - accuracy: 0.8141 - val_loss: 0.6766 - val_accuracy: 0.8283\n",
            "Epoch 75/100\n",
            "115/115 [==============================] - 1s 6ms/step - loss: 0.6722 - accuracy: 0.8106 - val_loss: 0.6766 - val_accuracy: 0.8283\n",
            "Epoch 76/100\n",
            "115/115 [==============================] - 1s 6ms/step - loss: 0.6730 - accuracy: 0.8087 - val_loss: 0.6766 - val_accuracy: 0.8283\n",
            "Epoch 77/100\n",
            "115/115 [==============================] - 1s 6ms/step - loss: 0.6737 - accuracy: 0.8158 - val_loss: 0.6766 - val_accuracy: 0.8283\n",
            "Epoch 78/100\n",
            "115/115 [==============================] - 1s 6ms/step - loss: 0.6751 - accuracy: 0.8155 - val_loss: 0.6766 - val_accuracy: 0.8283\n",
            "Epoch 79/100\n",
            "115/115 [==============================] - 1s 5ms/step - loss: 0.6737 - accuracy: 0.8152 - val_loss: 0.6766 - val_accuracy: 0.8283\n",
            "Epoch 80/100\n",
            "115/115 [==============================] - 1s 5ms/step - loss: 0.6747 - accuracy: 0.8201 - val_loss: 0.6766 - val_accuracy: 0.8283\n",
            "Epoch 81/100\n",
            "115/115 [==============================] - 1s 5ms/step - loss: 0.6736 - accuracy: 0.8122 - val_loss: 0.6766 - val_accuracy: 0.8283\n",
            "Epoch 82/100\n",
            "115/115 [==============================] - 1s 6ms/step - loss: 0.6724 - accuracy: 0.8130 - val_loss: 0.6766 - val_accuracy: 0.8261\n",
            "Epoch 83/100\n",
            "115/115 [==============================] - 1s 6ms/step - loss: 0.6709 - accuracy: 0.8133 - val_loss: 0.6766 - val_accuracy: 0.8239\n",
            "Epoch 84/100\n",
            "115/115 [==============================] - 1s 6ms/step - loss: 0.6726 - accuracy: 0.8168 - val_loss: 0.6766 - val_accuracy: 0.8239\n",
            "Epoch 85/100\n",
            "115/115 [==============================] - 1s 6ms/step - loss: 0.6728 - accuracy: 0.8201 - val_loss: 0.6766 - val_accuracy: 0.8239\n",
            "Epoch 86/100\n",
            "115/115 [==============================] - 1s 6ms/step - loss: 0.6717 - accuracy: 0.8188 - val_loss: 0.6766 - val_accuracy: 0.8239\n",
            "Epoch 87/100\n",
            "115/115 [==============================] - 1s 5ms/step - loss: 0.6707 - accuracy: 0.8171 - val_loss: 0.6766 - val_accuracy: 0.8239\n",
            "Epoch 88/100\n",
            "115/115 [==============================] - 1s 5ms/step - loss: 0.6711 - accuracy: 0.8111 - val_loss: 0.6766 - val_accuracy: 0.8239\n",
            "Epoch 89/100\n",
            "115/115 [==============================] - 1s 5ms/step - loss: 0.6726 - accuracy: 0.8103 - val_loss: 0.6766 - val_accuracy: 0.8239\n",
            "Epoch 90/100\n",
            "115/115 [==============================] - 1s 5ms/step - loss: 0.6728 - accuracy: 0.8054 - val_loss: 0.6766 - val_accuracy: 0.8239\n",
            "Epoch 91/100\n",
            "115/115 [==============================] - 1s 6ms/step - loss: 0.6711 - accuracy: 0.8185 - val_loss: 0.6766 - val_accuracy: 0.8261\n",
            "Epoch 92/100\n",
            "115/115 [==============================] - 1s 6ms/step - loss: 0.6719 - accuracy: 0.8234 - val_loss: 0.6751 - val_accuracy: 0.8239\n",
            "Epoch 93/100\n",
            "115/115 [==============================] - 1s 6ms/step - loss: 0.6717 - accuracy: 0.8152 - val_loss: 0.6751 - val_accuracy: 0.8239\n",
            "Epoch 94/100\n",
            "115/115 [==============================] - 1s 6ms/step - loss: 0.6715 - accuracy: 0.8168 - val_loss: 0.6751 - val_accuracy: 0.8239\n",
            "Epoch 95/100\n",
            "115/115 [==============================] - 1s 6ms/step - loss: 0.6713 - accuracy: 0.8109 - val_loss: 0.6751 - val_accuracy: 0.8217\n",
            "Epoch 96/100\n",
            "115/115 [==============================] - 1s 6ms/step - loss: 0.6711 - accuracy: 0.8122 - val_loss: 0.6751 - val_accuracy: 0.8239\n",
            "Epoch 97/100\n",
            "115/115 [==============================] - 1s 6ms/step - loss: 0.6711 - accuracy: 0.8198 - val_loss: 0.6751 - val_accuracy: 0.8239\n",
            "Epoch 98/100\n",
            "115/115 [==============================] - 1s 6ms/step - loss: 0.6721 - accuracy: 0.8155 - val_loss: 0.6751 - val_accuracy: 0.8217\n",
            "Epoch 99/100\n",
            "115/115 [==============================] - 1s 6ms/step - loss: 0.6698 - accuracy: 0.8120 - val_loss: 0.6751 - val_accuracy: 0.8239\n",
            "Epoch 100/100\n",
            "115/115 [==============================] - 1s 6ms/step - loss: 0.6749 - accuracy: 0.8109 - val_loss: 0.6751 - val_accuracy: 0.8239\n"
          ]
        }
      ]
    },
    {
      "cell_type": "code",
      "source": [],
      "metadata": {
        "id": "OxtCCTWEbmSs"
      },
      "execution_count": null,
      "outputs": []
    },
    {
      "cell_type": "code",
      "source": [
        "# Print validation accuracy and plot accuracy and loss\n",
        "evaluate_model(history2,data_test,label_test,model1)\n",
        "y_pred=model2.predict(data_test)"
      ],
      "metadata": {
        "outputId": "3d538a82-7c4b-4425-8cdc-e43e3cb278b1",
        "execution": {
          "iopub.status.busy": "2023-05-11T07:13:53.862738Z",
          "iopub.execute_input": "2023-05-11T07:13:53.863132Z",
          "iopub.status.idle": "2023-05-11T07:13:54.685745Z",
          "shell.execute_reply.started": "2023-05-11T07:13:53.863091Z",
          "shell.execute_reply": "2023-05-11T07:13:54.684788Z"
        },
        "trusted": true,
        "colab": {
          "base_uri": "https://localhost:8080/",
          "height": 998
        },
        "id": "L0dcDiJ3bqmf"
      },
      "execution_count": null,
      "outputs": [
        {
          "output_type": "stream",
          "name": "stdout",
          "text": [
            "Accuracy: 91.09%\n",
            "<keras.callbacks.History object at 0x7f6dec52dde0>\n"
          ]
        },
        {
          "output_type": "display_data",
          "data": {
            "text/plain": [
              "<Figure size 640x480 with 1 Axes>"
            ],
            "image/png": "[encoded data removed]"
          },
          "metadata": {}
        },
        {
          "output_type": "display_data",
          "data": {
            "text/plain": [
              "<Figure size 640x480 with 1 Axes>"
            ],
            "image/png": "[encoded data removed]"
          },
          "metadata": {}
        },
        {
          "output_type": "stream",
          "name": "stdout",
          "text": [
            "15/15 [==============================] - 0s 1ms/step\n",
            "15/15 [==============================] - 0s 2ms/step\n"
          ]
        }
      ]
    },
    {
      "cell_type": "code",
      "source": [],
      "metadata": {
        "id": "7ASDTy67G4D-"
      },
      "execution_count": null,
      "outputs": []
    },
    {
      "cell_type": "code",
      "source": [
        "scores = model2.evaluate((data_test),label_test, verbose=0)\n",
        "acc_CNN = scores[1]\n"
      ],
      "metadata": {
        "execution": {
          "iopub.status.busy": "2023-05-11T07:09:43.943681Z",
          "iopub.execute_input": "2023-05-11T07:09:43.944128Z",
          "iopub.status.idle": "2023-05-11T07:09:43.958973Z",
          "shell.execute_reply.started": "2023-05-11T07:09:43.944083Z",
          "shell.execute_reply": "2023-05-11T07:09:43.957793Z"
        },
        "trusted": true,
        "id": "nfrfBV_WG4hE"
      },
      "execution_count": null,
      "outputs": []
    },
    {
      "cell_type": "markdown",
      "source": [
        "# 3. Long-Short Term Memory(LSTM)\n",
        "![Imgur](https://i.imgur.com/HyPUqwF.png)\n",
        "Computers are great at solving algorithmic and math problems, but often the world can't easily be defined with a mathematical algorithm. Facial recognition and language processing are a couple of examples of problems that can't easily be quantified into an algorithm, however these tasks are trivial to humans. The key to Artificial Neural Networks is that their design enables them to process information in a similar way to our own biological brains, by drawing inspiration from how our own nervous system functions. This makes them useful tools for solving problems like facial recognition, which our biological brains can do easily."
      ],
      "metadata": {
        "_uuid": "724afa104f8fc061f379adb0ba408730e024abeb",
        "id": "iSMZTCQVYdul"
      }
    },
    {
      "cell_type": "code",
      "source": [
        "# Define Bidirectional LSTM model\n",
        "def network_LSTM(X_train,y_train):\n",
        "    im_shape=(X_train.shape[1],1)\n",
        "    inputs_lstm=Input(shape=(im_shape), name='inputs_lstm')\n",
        "\n",
        "    dense = Dense(units=32, activation='relu', name='dense')(inputs_lstm)\n",
        "    lstm = layers.Bidirectional(LSTM(units=128, name='lstm'))(dense)\n",
        "    dropout = Dropout(0.3)(lstm)\n",
        "    batch_normalization = BatchNormalization(name='batch_normalization')(dropout)\n",
        "    dense_1 = Dense(units=64, activation='relu', name='dense_1')(batch_normalization)\n",
        "    dropout_2 = Dropout(0.3, name='dropout_2')(dense_1)\n",
        "    batch_normalization_1 = BatchNormalization(name='batch_normalization_1')(dropout_2)\n",
        "    main_output = Dense(units=2, activation='softmax')(batch_normalization_1)\n",
        "\n",
        "    model = Model(inputs= inputs_lstm, outputs=main_output)\n",
        "    model.compile(optimizer='adam', loss='sparse_categorical_crossentropy',metrics = ['accuracy'])\n",
        "\n",
        "    return(model)"
      ],
      "metadata": {
        "id": "GY-9zxoFZaHM",
        "execution": {
          "iopub.status.busy": "2023-05-11T07:14:05.635460Z",
          "iopub.execute_input": "2023-05-11T07:14:05.635924Z",
          "iopub.status.idle": "2023-05-11T07:14:05.648628Z",
          "shell.execute_reply.started": "2023-05-11T07:14:05.635879Z",
          "shell.execute_reply": "2023-05-11T07:14:05.647337Z"
        },
        "trusted": true
      },
      "execution_count": null,
      "outputs": []
    },
    {
      "cell_type": "code",
      "source": [
        "# Define BiLSTM model to be trained on epileptic vs healthy data\n",
        "model3 = network_LSTM(data_train, label_train)\n",
        "print(model3.summary())"
      ],
      "metadata": {
        "id": "-kkmoyTBZpbc",
        "outputId": "7caaa9c0-2adc-4bf7-d71f-b53ea3bb670a",
        "execution": {
          "iopub.status.busy": "2023-05-11T07:14:14.503315Z",
          "iopub.execute_input": "2023-05-11T07:14:14.504067Z",
          "iopub.status.idle": "2023-05-11T07:14:15.407622Z",
          "shell.execute_reply.started": "2023-05-11T07:14:14.504013Z",
          "shell.execute_reply": "2023-05-11T07:14:15.406639Z"
        },
        "trusted": true,
        "colab": {
          "base_uri": "https://localhost:8080/"
        }
      },
      "execution_count": null,
      "outputs": [
        {
          "output_type": "stream",
          "name": "stdout",
          "text": [
            "Model: \"model_2\"\n",
            "_________________________________________________________________\n",
            " Layer (type)                Output Shape              Param #   \n",
            "=================================================================\n",
            " inputs_lstm (InputLayer)    [(None, 178, 1)]          0         \n",
            "                                                                 \n",
            " dense (Dense)               (None, 178, 32)           64        \n",
            "                                                                 \n",
            " bidirectional (Bidirectiona  (None, 256)              164864    \n",
            " l)                                                              \n",
            "                                                                 \n",
            " dropout (Dropout)           (None, 256)               0         \n",
            "                                                                 \n",
            " batch_normalization (BatchN  (None, 256)              1024      \n",
            " ormalization)                                                   \n",
            "                                                                 \n",
            " dense_1 (Dense)             (None, 64)                16448     \n",
            "                                                                 \n",
            " dropout_2 (Dropout)         (None, 64)                0         \n",
            "                                                                 \n",
            " batch_normalization_1 (Batc  (None, 64)               256       \n",
            " hNormalization)                                                 \n",
            "                                                                 \n",
            " dense_6 (Dense)             (None, 2)                 130       \n",
            "                                                                 \n",
            "=================================================================\n",
            "Total params: 182,786\n",
            "Trainable params: 182,146\n",
            "Non-trainable params: 640\n",
            "_________________________________________________________________\n",
            "None\n"
          ]
        }
      ]
    },
    {
      "cell_type": "code",
      "source": [
        "# Train BiLSTM on epileptic vs healthy data\n",
        "# Save model at highest validation accuracy\n",
        "save_path = '/tmp/checkpoint_3'\n",
        "model_checkpoint_callback = keras.callbacks.ModelCheckpoint(\n",
        "    filepath=save_path,\n",
        "    save_weights_only=True,\n",
        "    monitor='val_accuracy',\n",
        "    mode='max',\n",
        "    save_best_only=True)\n",
        "\n",
        "history3 = model3.fit(data_train, label_train,epochs=100, batch_size=32, validation_data=(data_val,label_val), callbacks=[model_checkpoint_callback])"
      ],
      "metadata": {
        "id": "4ujAB8k-aTEI",
        "outputId": "3e32ba51-f1dd-4186-e05d-df330855f25b",
        "execution": {
          "iopub.status.busy": "2023-05-11T07:14:19.602574Z",
          "iopub.execute_input": "2023-05-11T07:14:19.602981Z",
          "iopub.status.idle": "2023-05-11T08:18:39.778661Z",
          "shell.execute_reply.started": "2023-05-11T07:14:19.602946Z",
          "shell.execute_reply": "2023-05-11T08:18:39.777666Z"
        },
        "trusted": true,
        "colab": {
          "base_uri": "https://localhost:8080/"
        }
      },
      "execution_count": null,
      "outputs": [
        {
          "output_type": "stream",
          "name": "stdout",
          "text": [
            "Epoch 1/100\n",
            "115/115 [==============================] - 9s 25ms/step - loss: 0.2327 - accuracy: 0.9041 - val_loss: 0.1579 - val_accuracy: 0.9435\n",
            "Epoch 2/100\n",
            "115/115 [==============================] - 2s 17ms/step - loss: 0.1491 - accuracy: 0.9527 - val_loss: 0.1844 - val_accuracy: 0.9435\n",
            "Epoch 3/100\n",
            "115/115 [==============================] - 2s 18ms/step - loss: 0.1306 - accuracy: 0.9571 - val_loss: 0.1360 - val_accuracy: 0.9565\n",
            "Epoch 4/100\n",
            "115/115 [==============================] - 2s 17ms/step - loss: 0.1198 - accuracy: 0.9601 - val_loss: 0.1189 - val_accuracy: 0.9609\n",
            "Epoch 5/100\n",
            "115/115 [==============================] - 2s 17ms/step - loss: 0.1064 - accuracy: 0.9639 - val_loss: 0.1238 - val_accuracy: 0.9609\n",
            "Epoch 6/100\n",
            "115/115 [==============================] - 2s 16ms/step - loss: 0.1068 - accuracy: 0.9620 - val_loss: 0.1175 - val_accuracy: 0.9609\n",
            "Epoch 7/100\n",
            "115/115 [==============================] - 2s 17ms/step - loss: 0.1082 - accuracy: 0.9666 - val_loss: 0.1221 - val_accuracy: 0.9587\n",
            "Epoch 8/100\n",
            "115/115 [==============================] - 2s 18ms/step - loss: 0.0976 - accuracy: 0.9679 - val_loss: 0.1220 - val_accuracy: 0.9630\n",
            "Epoch 9/100\n",
            "115/115 [==============================] - 2s 18ms/step - loss: 0.1027 - accuracy: 0.9668 - val_loss: 0.1106 - val_accuracy: 0.9674\n",
            "Epoch 10/100\n",
            "115/115 [==============================] - 2s 17ms/step - loss: 0.0777 - accuracy: 0.9728 - val_loss: 0.1289 - val_accuracy: 0.9630\n",
            "Epoch 11/100\n",
            "115/115 [==============================] - 2s 17ms/step - loss: 0.1003 - accuracy: 0.9625 - val_loss: 0.1298 - val_accuracy: 0.9565\n",
            "Epoch 12/100\n",
            "115/115 [==============================] - 2s 18ms/step - loss: 0.0811 - accuracy: 0.9750 - val_loss: 0.0866 - val_accuracy: 0.9739\n",
            "Epoch 13/100\n",
            "115/115 [==============================] - 2s 17ms/step - loss: 0.0750 - accuracy: 0.9774 - val_loss: 0.1128 - val_accuracy: 0.9609\n",
            "Epoch 14/100\n",
            "115/115 [==============================] - 2s 17ms/step - loss: 0.1082 - accuracy: 0.9649 - val_loss: 0.0913 - val_accuracy: 0.9674\n",
            "Epoch 15/100\n",
            "115/115 [==============================] - 2s 18ms/step - loss: 0.0838 - accuracy: 0.9747 - val_loss: 0.1016 - val_accuracy: 0.9674\n",
            "Epoch 16/100\n",
            "115/115 [==============================] - 2s 17ms/step - loss: 0.0663 - accuracy: 0.9766 - val_loss: 0.0844 - val_accuracy: 0.9630\n",
            "Epoch 17/100\n",
            "115/115 [==============================] - 2s 18ms/step - loss: 0.0760 - accuracy: 0.9696 - val_loss: 0.1264 - val_accuracy: 0.9543\n",
            "Epoch 18/100\n",
            "115/115 [==============================] - 2s 18ms/step - loss: 0.0782 - accuracy: 0.9698 - val_loss: 0.0937 - val_accuracy: 0.9630\n",
            "Epoch 19/100\n",
            "115/115 [==============================] - 2s 18ms/step - loss: 0.0778 - accuracy: 0.9745 - val_loss: 0.0941 - val_accuracy: 0.9739\n",
            "Epoch 20/100\n",
            "115/115 [==============================] - 2s 18ms/step - loss: 0.0627 - accuracy: 0.9774 - val_loss: 0.0988 - val_accuracy: 0.9587\n",
            "Epoch 21/100\n",
            "115/115 [==============================] - 2s 18ms/step - loss: 0.0605 - accuracy: 0.9777 - val_loss: 0.0840 - val_accuracy: 0.9804\n",
            "Epoch 22/100\n",
            "115/115 [==============================] - 2s 18ms/step - loss: 0.0594 - accuracy: 0.9769 - val_loss: 0.0756 - val_accuracy: 0.9739\n",
            "Epoch 23/100\n",
            "115/115 [==============================] - 2s 18ms/step - loss: 0.0492 - accuracy: 0.9829 - val_loss: 0.1047 - val_accuracy: 0.9717\n",
            "Epoch 24/100\n",
            "115/115 [==============================] - 2s 18ms/step - loss: 0.0552 - accuracy: 0.9812 - val_loss: 0.0763 - val_accuracy: 0.9696\n",
            "Epoch 25/100\n",
            "115/115 [==============================] - 2s 17ms/step - loss: 0.0535 - accuracy: 0.9823 - val_loss: 0.0773 - val_accuracy: 0.9717\n",
            "Epoch 26/100\n",
            "115/115 [==============================] - 2s 17ms/step - loss: 0.0560 - accuracy: 0.9815 - val_loss: 0.0779 - val_accuracy: 0.9717\n",
            "Epoch 27/100\n",
            "115/115 [==============================] - 2s 18ms/step - loss: 0.0627 - accuracy: 0.9785 - val_loss: 0.0817 - val_accuracy: 0.9696\n",
            "Epoch 28/100\n",
            "115/115 [==============================] - 2s 17ms/step - loss: 0.0600 - accuracy: 0.9799 - val_loss: 0.0699 - val_accuracy: 0.9761\n",
            "Epoch 29/100\n",
            "115/115 [==============================] - 2s 17ms/step - loss: 0.0462 - accuracy: 0.9842 - val_loss: 0.0756 - val_accuracy: 0.9761\n",
            "Epoch 30/100\n",
            "115/115 [==============================] - 2s 17ms/step - loss: 0.0504 - accuracy: 0.9815 - val_loss: 0.0820 - val_accuracy: 0.9609\n",
            "Epoch 31/100\n",
            "115/115 [==============================] - 2s 17ms/step - loss: 0.0468 - accuracy: 0.9818 - val_loss: 0.0758 - val_accuracy: 0.9717\n",
            "Epoch 32/100\n",
            "115/115 [==============================] - 2s 18ms/step - loss: 0.0399 - accuracy: 0.9861 - val_loss: 0.2145 - val_accuracy: 0.9500\n",
            "Epoch 33/100\n",
            "115/115 [==============================] - 2s 18ms/step - loss: 0.0547 - accuracy: 0.9774 - val_loss: 0.0652 - val_accuracy: 0.9804\n",
            "Epoch 34/100\n",
            "115/115 [==============================] - 2s 17ms/step - loss: 0.0537 - accuracy: 0.9823 - val_loss: 0.1084 - val_accuracy: 0.9609\n",
            "Epoch 35/100\n",
            "115/115 [==============================] - 2s 17ms/step - loss: 0.0563 - accuracy: 0.9785 - val_loss: 0.0868 - val_accuracy: 0.9674\n",
            "Epoch 36/100\n",
            "115/115 [==============================] - 2s 17ms/step - loss: 0.0497 - accuracy: 0.9818 - val_loss: 0.1075 - val_accuracy: 0.9696\n",
            "Epoch 37/100\n",
            "115/115 [==============================] - 2s 17ms/step - loss: 0.0415 - accuracy: 0.9861 - val_loss: 0.0627 - val_accuracy: 0.9696\n",
            "Epoch 38/100\n",
            "115/115 [==============================] - 2s 17ms/step - loss: 0.0284 - accuracy: 0.9902 - val_loss: 0.0712 - val_accuracy: 0.9674\n",
            "Epoch 39/100\n",
            "115/115 [==============================] - 2s 17ms/step - loss: 0.0374 - accuracy: 0.9853 - val_loss: 0.0744 - val_accuracy: 0.9761\n",
            "Epoch 40/100\n",
            "115/115 [==============================] - 2s 17ms/step - loss: 0.0370 - accuracy: 0.9878 - val_loss: 0.0724 - val_accuracy: 0.9717\n",
            "Epoch 41/100\n",
            "115/115 [==============================] - 2s 17ms/step - loss: 0.0364 - accuracy: 0.9902 - val_loss: 0.0956 - val_accuracy: 0.9717\n",
            "Epoch 42/100\n",
            "115/115 [==============================] - 2s 17ms/step - loss: 0.0325 - accuracy: 0.9889 - val_loss: 0.1832 - val_accuracy: 0.9652\n",
            "Epoch 43/100\n",
            "115/115 [==============================] - 2s 17ms/step - loss: 0.0418 - accuracy: 0.9837 - val_loss: 0.0667 - val_accuracy: 0.9804\n",
            "Epoch 44/100\n",
            "115/115 [==============================] - 2s 16ms/step - loss: 0.0309 - accuracy: 0.9897 - val_loss: 0.0787 - val_accuracy: 0.9674\n",
            "Epoch 45/100\n",
            "115/115 [==============================] - 2s 17ms/step - loss: 0.0237 - accuracy: 0.9913 - val_loss: 0.0772 - val_accuracy: 0.9652\n",
            "Epoch 46/100\n",
            "115/115 [==============================] - 2s 17ms/step - loss: 0.0351 - accuracy: 0.9883 - val_loss: 0.0993 - val_accuracy: 0.9674\n",
            "Epoch 47/100\n",
            "115/115 [==============================] - 2s 18ms/step - loss: 0.0272 - accuracy: 0.9902 - val_loss: 0.0932 - val_accuracy: 0.9717\n",
            "Epoch 48/100\n",
            "115/115 [==============================] - 2s 18ms/step - loss: 0.0361 - accuracy: 0.9899 - val_loss: 0.0607 - val_accuracy: 0.9739\n",
            "Epoch 49/100\n",
            "115/115 [==============================] - 2s 18ms/step - loss: 0.0270 - accuracy: 0.9899 - val_loss: 0.0639 - val_accuracy: 0.9761\n",
            "Epoch 50/100\n",
            "115/115 [==============================] - 2s 18ms/step - loss: 0.0230 - accuracy: 0.9927 - val_loss: 0.0678 - val_accuracy: 0.9783\n",
            "Epoch 51/100\n",
            "115/115 [==============================] - 2s 18ms/step - loss: 0.0224 - accuracy: 0.9929 - val_loss: 0.0740 - val_accuracy: 0.9761\n",
            "Epoch 52/100\n",
            "115/115 [==============================] - 2s 18ms/step - loss: 0.0265 - accuracy: 0.9921 - val_loss: 0.0712 - val_accuracy: 0.9696\n",
            "Epoch 53/100\n",
            "115/115 [==============================] - 2s 18ms/step - loss: 0.0210 - accuracy: 0.9937 - val_loss: 0.0450 - val_accuracy: 0.9783\n",
            "Epoch 54/100\n",
            "115/115 [==============================] - 2s 18ms/step - loss: 0.0241 - accuracy: 0.9908 - val_loss: 0.0541 - val_accuracy: 0.9804\n",
            "Epoch 55/100\n",
            "115/115 [==============================] - 2s 17ms/step - loss: 0.0186 - accuracy: 0.9946 - val_loss: 0.1032 - val_accuracy: 0.9717\n",
            "Epoch 56/100\n",
            "115/115 [==============================] - 2s 17ms/step - loss: 0.0170 - accuracy: 0.9946 - val_loss: 0.0780 - val_accuracy: 0.9739\n",
            "Epoch 57/100\n",
            "115/115 [==============================] - 2s 18ms/step - loss: 0.0085 - accuracy: 0.9967 - val_loss: 0.0461 - val_accuracy: 0.9870\n",
            "Epoch 58/100\n",
            "115/115 [==============================] - 2s 18ms/step - loss: 0.0159 - accuracy: 0.9948 - val_loss: 0.2034 - val_accuracy: 0.9696\n",
            "Epoch 59/100\n",
            "115/115 [==============================] - 2s 18ms/step - loss: 0.0382 - accuracy: 0.9872 - val_loss: 0.0809 - val_accuracy: 0.9761\n",
            "Epoch 60/100\n",
            "115/115 [==============================] - 2s 16ms/step - loss: 0.0333 - accuracy: 0.9883 - val_loss: 0.0668 - val_accuracy: 0.9826\n",
            "Epoch 61/100\n",
            "115/115 [==============================] - 2s 17ms/step - loss: 0.0208 - accuracy: 0.9935 - val_loss: 0.0616 - val_accuracy: 0.9739\n",
            "Epoch 62/100\n",
            "115/115 [==============================] - 2s 17ms/step - loss: 0.0182 - accuracy: 0.9940 - val_loss: 0.1128 - val_accuracy: 0.9739\n",
            "Epoch 63/100\n",
            "115/115 [==============================] - 2s 19ms/step - loss: 0.0137 - accuracy: 0.9965 - val_loss: 0.0702 - val_accuracy: 0.9870\n",
            "Epoch 64/100\n",
            "115/115 [==============================] - 2s 19ms/step - loss: 0.0121 - accuracy: 0.9957 - val_loss: 0.1231 - val_accuracy: 0.9783\n",
            "Epoch 65/100\n",
            "115/115 [==============================] - 2s 17ms/step - loss: 0.0415 - accuracy: 0.9880 - val_loss: 0.1955 - val_accuracy: 0.9522\n",
            "Epoch 66/100\n",
            "115/115 [==============================] - 2s 17ms/step - loss: 0.0353 - accuracy: 0.9883 - val_loss: 0.0545 - val_accuracy: 0.9783\n",
            "Epoch 67/100\n",
            "115/115 [==============================] - 2s 17ms/step - loss: 0.0174 - accuracy: 0.9935 - val_loss: 0.0730 - val_accuracy: 0.9804\n",
            "Epoch 68/100\n",
            "115/115 [==============================] - 2s 17ms/step - loss: 0.0096 - accuracy: 0.9976 - val_loss: 0.0649 - val_accuracy: 0.9826\n",
            "Epoch 69/100\n",
            "115/115 [==============================] - 2s 17ms/step - loss: 0.0129 - accuracy: 0.9965 - val_loss: 0.0500 - val_accuracy: 0.9826\n",
            "Epoch 70/100\n",
            "115/115 [==============================] - 2s 17ms/step - loss: 0.0188 - accuracy: 0.9935 - val_loss: 0.0562 - val_accuracy: 0.9783\n",
            "Epoch 71/100\n",
            "115/115 [==============================] - 2s 17ms/step - loss: 0.0146 - accuracy: 0.9959 - val_loss: 0.0773 - val_accuracy: 0.9783\n",
            "Epoch 72/100\n",
            "115/115 [==============================] - 2s 18ms/step - loss: 0.0115 - accuracy: 0.9962 - val_loss: 0.0665 - val_accuracy: 0.9783\n",
            "Epoch 73/100\n",
            "115/115 [==============================] - 2s 18ms/step - loss: 0.0072 - accuracy: 0.9976 - val_loss: 0.0904 - val_accuracy: 0.9739\n",
            "Epoch 74/100\n",
            "115/115 [==============================] - 2s 18ms/step - loss: 0.0056 - accuracy: 0.9986 - val_loss: 0.0566 - val_accuracy: 0.9891\n",
            "Epoch 75/100\n",
            "115/115 [==============================] - 2s 17ms/step - loss: 0.0091 - accuracy: 0.9965 - val_loss: 0.0881 - val_accuracy: 0.9761\n",
            "Epoch 76/100\n",
            "115/115 [==============================] - 2s 18ms/step - loss: 0.0131 - accuracy: 0.9957 - val_loss: 0.0848 - val_accuracy: 0.9739\n",
            "Epoch 77/100\n",
            "115/115 [==============================] - 2s 17ms/step - loss: 0.0235 - accuracy: 0.9921 - val_loss: 0.0795 - val_accuracy: 0.9717\n",
            "Epoch 78/100\n",
            "115/115 [==============================] - 2s 17ms/step - loss: 0.0167 - accuracy: 0.9943 - val_loss: 0.1359 - val_accuracy: 0.9674\n",
            "Epoch 79/100\n",
            "115/115 [==============================] - 2s 17ms/step - loss: 0.0401 - accuracy: 0.9878 - val_loss: 0.0676 - val_accuracy: 0.9848\n",
            "Epoch 80/100\n",
            "115/115 [==============================] - 2s 16ms/step - loss: 0.0178 - accuracy: 0.9948 - val_loss: 0.0427 - val_accuracy: 0.9848\n",
            "Epoch 81/100\n",
            "115/115 [==============================] - 2s 16ms/step - loss: 0.0170 - accuracy: 0.9940 - val_loss: 0.0516 - val_accuracy: 0.9848\n",
            "Epoch 82/100\n",
            "115/115 [==============================] - 2s 17ms/step - loss: 0.0213 - accuracy: 0.9921 - val_loss: 0.0837 - val_accuracy: 0.9804\n",
            "Epoch 83/100\n",
            "115/115 [==============================] - 2s 18ms/step - loss: 0.0198 - accuracy: 0.9937 - val_loss: 0.0377 - val_accuracy: 0.9848\n",
            "Epoch 84/100\n",
            "115/115 [==============================] - 2s 18ms/step - loss: 0.0278 - accuracy: 0.9908 - val_loss: 0.0916 - val_accuracy: 0.9674\n",
            "Epoch 85/100\n",
            "115/115 [==============================] - 2s 17ms/step - loss: 0.0278 - accuracy: 0.9894 - val_loss: 0.0989 - val_accuracy: 0.9696\n",
            "Epoch 86/100\n",
            "115/115 [==============================] - 2s 18ms/step - loss: 0.0118 - accuracy: 0.9965 - val_loss: 0.0342 - val_accuracy: 0.9870\n",
            "Epoch 87/100\n",
            "115/115 [==============================] - 2s 18ms/step - loss: 0.0179 - accuracy: 0.9948 - val_loss: 0.0343 - val_accuracy: 0.9870\n",
            "Epoch 88/100\n",
            "115/115 [==============================] - 2s 18ms/step - loss: 0.0104 - accuracy: 0.9959 - val_loss: 0.0574 - val_accuracy: 0.9826\n",
            "Epoch 89/100\n",
            "115/115 [==============================] - 2s 18ms/step - loss: 0.0050 - accuracy: 0.9986 - val_loss: 0.0312 - val_accuracy: 0.9848\n",
            "Epoch 90/100\n",
            "115/115 [==============================] - 2s 17ms/step - loss: 0.0080 - accuracy: 0.9965 - val_loss: 0.0511 - val_accuracy: 0.9870\n",
            "Epoch 91/100\n",
            "115/115 [==============================] - 2s 17ms/step - loss: 0.0106 - accuracy: 0.9962 - val_loss: 0.0465 - val_accuracy: 0.9804\n",
            "Epoch 92/100\n",
            "115/115 [==============================] - 2s 17ms/step - loss: 0.0051 - accuracy: 0.9986 - val_loss: 0.0313 - val_accuracy: 0.9870\n",
            "Epoch 93/100\n",
            "115/115 [==============================] - 2s 18ms/step - loss: 0.0107 - accuracy: 0.9965 - val_loss: 0.0493 - val_accuracy: 0.9804\n",
            "Epoch 94/100\n",
            "115/115 [==============================] - 2s 18ms/step - loss: 0.0071 - accuracy: 0.9978 - val_loss: 0.0660 - val_accuracy: 0.9761\n",
            "Epoch 95/100\n",
            "115/115 [==============================] - 2s 18ms/step - loss: 0.0084 - accuracy: 0.9962 - val_loss: 0.0538 - val_accuracy: 0.9783\n",
            "Epoch 96/100\n",
            "115/115 [==============================] - 2s 17ms/step - loss: 0.0198 - accuracy: 0.9937 - val_loss: 0.0506 - val_accuracy: 0.9783\n",
            "Epoch 97/100\n",
            "115/115 [==============================] - 2s 17ms/step - loss: 0.0201 - accuracy: 0.9935 - val_loss: 0.0392 - val_accuracy: 0.9848\n",
            "Epoch 98/100\n",
            "115/115 [==============================] - 2s 18ms/step - loss: 0.0120 - accuracy: 0.9957 - val_loss: 0.0828 - val_accuracy: 0.9783\n",
            "Epoch 99/100\n",
            "115/115 [==============================] - 2s 17ms/step - loss: 0.0061 - accuracy: 0.9978 - val_loss: 0.0625 - val_accuracy: 0.9870\n",
            "Epoch 100/100\n",
            "115/115 [==============================] - 2s 17ms/step - loss: 0.0065 - accuracy: 0.9973 - val_loss: 0.0534 - val_accuracy: 0.9826\n"
          ]
        }
      ]
    },
    {
      "cell_type": "code",
      "source": [],
      "metadata": {
        "id": "41UOho9HcYOh"
      },
      "execution_count": null,
      "outputs": []
    },
    {
      "cell_type": "code",
      "source": [
        "# Print validation accuracy and plot accuracy and loss\n",
        "evaluate_model(history3,data_test,label_test,model3)"
      ],
      "metadata": {
        "id": "OoxZqHbsa3fh",
        "outputId": "6075bbbc-4540-4baa-b202-cba8b6a0e857",
        "execution": {
          "iopub.status.busy": "2023-05-11T08:51:46.135413Z",
          "iopub.execute_input": "2023-05-11T08:51:46.136033Z",
          "iopub.status.idle": "2023-05-11T08:51:52.106652Z",
          "shell.execute_reply.started": "2023-05-11T08:51:46.135966Z",
          "shell.execute_reply": "2023-05-11T08:51:52.105419Z"
        },
        "trusted": true,
        "colab": {
          "base_uri": "https://localhost:8080/",
          "height": 981
        }
      },
      "execution_count": null,
      "outputs": [
        {
          "output_type": "stream",
          "name": "stdout",
          "text": [
            "Accuracy: 97.83%\n",
            "<keras.callbacks.History object at 0x7f6de0251480>\n"
          ]
        },
        {
          "output_type": "display_data",
          "data": {
            "text/plain": [
              "<Figure size 640x480 with 1 Axes>"
            ],
            "image/png": "[encoded data removed]"
          },
          "metadata": {}
        },
        {
          "output_type": "display_data",
          "data": {
            "text/plain": [
              "<Figure size 640x480 with 1 Axes>"
            ],
            "image/png": "[encoded data removed]"
          },
          "metadata": {}
        },
        {
          "output_type": "stream",
          "name": "stdout",
          "text": [
            "15/15 [==============================] - 1s 7ms/step\n"
          ]
        }
      ]
    },
    {
      "cell_type": "code",
      "source": [],
      "metadata": {
        "id": "ObJMpAG0fHz0"
      },
      "execution_count": null,
      "outputs": []
    },
    {
      "cell_type": "code",
      "source": [
        "# Print validation accuracy and plot accuracy and loss for the model's best version\n",
        "model3.load_weights(save_path)\n",
        "evaluate_model(history3,data_test,label_test,model3)"
      ],
      "metadata": {
        "id": "dvyclGhja7Zu",
        "outputId": "6d5d32ec-16eb-4263-ed18-fc23cb41a07b",
        "execution": {
          "iopub.status.busy": "2023-05-11T08:51:53.902458Z",
          "iopub.execute_input": "2023-05-11T08:51:53.903607Z",
          "iopub.status.idle": "2023-05-11T08:51:58.646947Z",
          "shell.execute_reply.started": "2023-05-11T08:51:53.903536Z",
          "shell.execute_reply": "2023-05-11T08:51:58.645624Z"
        },
        "trusted": true,
        "colab": {
          "base_uri": "https://localhost:8080/",
          "height": 981
        }
      },
      "execution_count": null,
      "outputs": [
        {
          "output_type": "stream",
          "name": "stdout",
          "text": [
            "Accuracy: 97.83%\n",
            "<keras.callbacks.History object at 0x7f6de0251480>\n"
          ]
        },
        {
          "output_type": "display_data",
          "data": {
            "text/plain": [
              "<Figure size 640x480 with 1 Axes>"
            ],
            "image/png": "[encoded data removed]"
          },
          "metadata": {}
        },
        {
          "output_type": "display_data",
          "data": {
            "text/plain": [
              "<Figure size 640x480 with 1 Axes>"
            ],
            "image/png": "[encoded data removed]"
          },
          "metadata": {}
        },
        {
          "output_type": "stream",
          "name": "stdout",
          "text": [
            "15/15 [==============================] - 0s 7ms/step\n"
          ]
        }
      ]
    },
    {
      "cell_type": "code",
      "source": [],
      "metadata": {
        "id": "D7Qr1A2DFSFu"
      },
      "execution_count": null,
      "outputs": []
    },
    {
      "cell_type": "code",
      "source": [
        "scores = model3.evaluate((data_test),label_test, verbose=0)\n",
        "acc_LSTM = scores[1]\n"
      ],
      "metadata": {
        "execution": {
          "iopub.status.busy": "2023-05-11T07:09:43.943681Z",
          "iopub.execute_input": "2023-05-11T07:09:43.944128Z",
          "iopub.status.idle": "2023-05-11T07:09:43.958973Z",
          "shell.execute_reply.started": "2023-05-11T07:09:43.944083Z",
          "shell.execute_reply": "2023-05-11T07:09:43.957793Z"
        },
        "trusted": true,
        "id": "p13uI6omGKPw"
      },
      "execution_count": null,
      "outputs": []
    },
    {
      "cell_type": "code",
      "source": [],
      "metadata": {
        "id": "TBtihARLFleu"
      },
      "execution_count": null,
      "outputs": []
    },
    {
      "cell_type": "markdown",
      "source": [
        "# Comparing Models"
      ],
      "metadata": {
        "_uuid": "572251b49c99a3c6e27d0945cb9fcc53e7a29662",
        "id": "VouXgm7KMV8r"
      }
    },
    {
      "cell_type": "code",
      "source": [
        "models = pd.DataFrame({\n",
        "    'Model': ['ANN', 'CNN','LSTM'],\n",
        "\n",
        "    'Score': [acc_ANN, acc_CNN,acc_LSTM ]\n",
        "    })\n",
        "\n",
        "models.sort_values(by='Score', ascending=False)"
      ],
      "metadata": {
        "_uuid": "646bccff6126c0b579594a3217c0fa045473abfd",
        "execution": {
          "iopub.status.busy": "2023-05-01T14:53:57.772123Z",
          "iopub.execute_input": "2023-05-01T14:53:57.772501Z",
          "iopub.status.idle": "2023-05-01T14:53:57.792118Z",
          "shell.execute_reply.started": "2023-05-01T14:53:57.772446Z",
          "shell.execute_reply": "2023-05-01T14:53:57.790959Z"
        },
        "trusted": true,
        "id": "ViLeo1vMMV8r",
        "outputId": "11caa172-8257-470f-8e3b-597d121d3272",
        "colab": {
          "base_uri": "https://localhost:8080/",
          "height": 143
        }
      },
      "execution_count": null,
      "outputs": [
        {
          "output_type": "execute_result",
          "data": {
            "text/plain": [
              "  Model     Score\n",
              "2  LSTM  0.978261\n",
              "0   ANN  0.910870\n",
              "1   CNN  0.802174"
            ],
            "text/html": [
              "\n",
              "  <div id=\"df-0eb48439-b914-4fc0-8066-296c8c4f2ed4\">\n",
              "    <div class=\"colab-df-container\">\n",
              "      <div>\n",
              "<style scoped>\n",
              "    .dataframe tbody tr th:only-of-type {\n",
              "        vertical-align: middle;\n",
              "    }\n",
              "\n",
              "    .dataframe tbody tr th {\n",
              "        vertical-align: top;\n",
              "    }\n",
              "\n",
              "    .dataframe thead th {\n",
              "        text-align: right;\n",
              "    }\n",
              "</style>\n",
              "<table border=\"1\" class=\"dataframe\">\n",
              "  <thead>\n",
              "    <tr style=\"text-align: right;\">\n",
              "      <th></th>\n",
              "      <th>Model</th>\n",
              "      <th>Score</th>\n",
              "    </tr>\n",
              "  </thead>\n",
              "  <tbody>\n",
              "    <tr>\n",
              "      <th>2</th>\n",
              "      <td>LSTM</td>\n",
              "      <td>0.978261</td>\n",
              "    </tr>\n",
              "    <tr>\n",
              "      <th>0</th>\n",
              "      <td>ANN</td>\n",
              "      <td>0.910870</td>\n",
              "    </tr>\n",
              "    <tr>\n",
              "      <th>1</th>\n",
              "      <td>CNN</td>\n",
              "      <td>0.802174</td>\n",
              "    </tr>\n",
              "  </tbody>\n",
              "</table>\n",
              "</div>\n",
              "      <button class=\"colab-df-convert\" onclick=\"convertToInteractive('df-0eb48439-b914-4fc0-8066-296c8c4f2ed4')\"\n",
              "              title=\"Convert this dataframe to an interactive table.\"\n",
              "              style=\"display:none;\">\n",
              "        \n",
              "  <svg xmlns=\"http://www.w3.org/2000/svg\" height=\"24px\"viewBox=\"0 0 24 24\"\n",
              "       width=\"24px\">\n",
              "    <path d=\"M0 0h24v24H0V0z\" fill=\"none\"/>\n",
              "    <path d=\"M18.56 5.44l.94 2.06.94-2.06 2.06-.94-2.06-.94-.94-2.06-.94 2.06-2.06.94zm-11 1L8.5 8.5l.94-2.06 2.06-.94-2.06-.94L8.5 2.5l-.94 2.06-2.06.94zm10 10l.94 2.06.94-2.06 2.06-.94-2.06-.94-.94-2.06-.94 2.06-2.06.94z\"/><path d=\"M17.41 7.96l-1.37-1.37c-.4-.4-.92-.59-1.43-.59-.52 0-1.04.2-1.43.59L10.3 9.45l-7.72 7.72c-.78.78-.78 2.05 0 2.83L4 21.41c.39.39.9.59 1.41.59.51 0 1.02-.2 1.41-.59l7.78-7.78 2.81-2.81c.8-.78.8-2.07 0-2.86zM5.41 20L4 18.59l7.72-7.72 1.47 1.35L5.41 20z\"/>\n",
              "  </svg>\n",
              "      </button>\n",
              "      \n",
              "  <style>\n",
              "    .colab-df-container {\n",
              "      display:flex;\n",
              "      flex-wrap:wrap;\n",
              "      gap: 12px;\n",
              "    }\n",
              "\n",
              "    .colab-df-convert {\n",
              "      background-color: #E8F0FE;\n",
              "      border: none;\n",
              "      border-radius: 50%;\n",
              "      cursor: pointer;\n",
              "      display: none;\n",
              "      fill: #1967D2;\n",
              "      height: 32px;\n",
              "      padding: 0 0 0 0;\n",
              "      width: 32px;\n",
              "    }\n",
              "\n",
              "    .colab-df-convert:hover {\n",
              "      background-color: #E2EBFA;\n",
              "      box-shadow: 0px 1px 2px rgba(60, 64, 67, 0.3), 0px 1px 3px 1px rgba(60, 64, 67, 0.15);\n",
              "      fill: #174EA6;\n",
              "    }\n",
              "\n",
              "    [theme=dark] .colab-df-convert {\n",
              "      background-color: #3B4455;\n",
              "      fill: #D2E3FC;\n",
              "    }\n",
              "\n",
              "    [theme=dark] .colab-df-convert:hover {\n",
              "      background-color: #434B5C;\n",
              "      box-shadow: 0px 1px 3px 1px rgba(0, 0, 0, 0.15);\n",
              "      filter: drop-shadow(0px 1px 2px rgba(0, 0, 0, 0.3));\n",
              "      fill: #FFFFFF;\n",
              "    }\n",
              "  </style>\n",
              "\n",
              "      <script>\n",
              "        const buttonEl =\n",
              "          document.querySelector('#df-0eb48439-b914-4fc0-8066-296c8c4f2ed4 button.colab-df-convert');\n",
              "        buttonEl.style.display =\n",
              "          google.colab.kernel.accessAllowed ? 'block' : 'none';\n",
              "\n",
              "        async function convertToInteractive(key) {\n",
              "          const element = document.querySelector('#df-0eb48439-b914-4fc0-8066-296c8c4f2ed4');\n",
              "          const dataTable =\n",
              "            await google.colab.kernel.invokeFunction('convertToInteractive',\n",
              "                                                     [key], {});\n",
              "          if (!dataTable) return;\n",
              "\n",
              "          const docLinkHtml = 'Like what you see? Visit the ' +\n",
              "            '<a target=\"_blank\" href=https://colab.research.google.com/notebooks/data_table.ipynb>data table notebook</a>'\n",
              "            + ' to learn more about interactive tables.';\n",
              "          element.innerHTML = '';\n",
              "          dataTable['output_type'] = 'display_data';\n",
              "          await google.colab.output.renderOutput(dataTable, element);\n",
              "          const docLink = document.createElement('div');\n",
              "          docLink.innerHTML = docLinkHtml;\n",
              "          element.appendChild(docLink);\n",
              "        }\n",
              "      </script>\n",
              "    </div>\n",
              "  </div>\n",
              "  "
            ]
          },
          "metadata": {},
          "execution_count": 39
        }
      ]
    },
    {
      "cell_type": "markdown",
      "source": [
        "# Export Model"
      ],
      "metadata": {
        "id": "LUM7TMyCB4P6"
      }
    },
    {
      "cell_type": "code",
      "source": [
        "import joblib\n"
      ],
      "metadata": {
        "id": "MTvRgkaFBcIe"
      },
      "execution_count": null,
      "outputs": []
    },
    {
      "cell_type": "code",
      "source": [
        "# export moddel\n",
        "joblib.dump(model3, 'model.pkl')"
      ],
      "metadata": {
        "colab": {
          "base_uri": "https://localhost:8080/"
        },
        "id": "STL_SVewCV9r",
        "outputId": "eb24a5b9-a23e-4172-b1bf-cdabbd762379"
      },
      "execution_count": null,
      "outputs": [
        {
          "output_type": "execute_result",
          "data": {
            "text/plain": [
              "['model.pkl']"
            ]
          },
          "metadata": {},
          "execution_count": 30
        }
      ]
    },
    {
      "cell_type": "code",
      "source": [
        "model3.save('model3')"
      ],
      "metadata": {
        "colab": {
          "base_uri": "https://localhost:8080/"
        },
        "id": "bXYVi6eBCFxz",
        "outputId": "d1a7bbbd-2659-4cc1-ff32-ac4e973622d8"
      },
      "execution_count": null,
      "outputs": [
        {
          "output_type": "stream",
          "name": "stderr",
          "text": [
            "WARNING:absl:Found untraced functions such as lstm_cell_1_layer_call_fn, lstm_cell_1_layer_call_and_return_conditional_losses, lstm_cell_2_layer_call_fn, lstm_cell_2_layer_call_and_return_conditional_losses while saving (showing 4 of 4). These functions will not be directly callable after loading.\n"
          ]
        }
      ]
    },
    {
      "cell_type": "markdown",
      "source": [
        "# Conclusion\n",
        "The aim of this study is to detect epileptic seizure using three different\n",
        " deep learning algorithms."
      ],
      "metadata": {
        "_uuid": "a53f723605eb5f1852bb9b094ebba1d6fe035f3c",
        "id": "kfHMBvUbMV8r"
      }
    }
  ]
}